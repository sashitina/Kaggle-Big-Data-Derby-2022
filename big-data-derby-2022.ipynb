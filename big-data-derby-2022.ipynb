{
 "cells": [
  {
   "cell_type": "markdown",
   "id": "5edee781",
   "metadata": {
    "papermill": {
     "duration": 0.00815,
     "end_time": "2022-08-12T19:24:55.543158",
     "exception": false,
     "start_time": "2022-08-12T19:24:55.535008",
     "status": "completed"
    },
    "tags": []
   },
   "source": [
    "<img src=\"https://storage.googleapis.com/kaggle-competitions/kaggle/37644/logos/header.png?t=2022-08-05-15-26-16\" width=1250 class=\"center\">"
   ]
  },
  {
   "cell_type": "markdown",
   "id": "d20dffcc",
   "metadata": {
    "papermill": {
     "duration": 0.006365,
     "end_time": "2022-08-12T19:24:55.556632",
     "exception": false,
     "start_time": "2022-08-12T19:24:55.550267",
     "status": "completed"
    },
    "tags": []
   },
   "source": [
    "# Context"
   ]
  },
  {
   "cell_type": "markdown",
   "id": "b855a476",
   "metadata": {
    "papermill": {
     "duration": 0.00623,
     "end_time": "2022-08-12T19:24:55.569418",
     "exception": false,
     "start_time": "2022-08-12T19:24:55.563188",
     "status": "completed"
    },
    "tags": []
   },
   "source": [
    "Injury prevention is a critical component in modern athletics. Sports that involve animals, such as horse racing, are no different than human sport. Typically, efficiency in movement correlates to both improvements in performance and injury prevention.\n",
    "\n",
    "A wealth of data is now collected, including measures for heart rate, EKG, longitudinal movement, dorsal/ventral movement, medial/lateral deviation, total power and total landing vibration. Your data science skills and analysis are needed to decipher what makes the most positive impact.\n",
    "\n",
    "In this competition, you will create a model to interpret one aspect of this new data. You’ll be among the first to access X/Y coordinate mapping of horses during races. Using the data, you might analyze jockey decision making, compare race surfaces, or measure the relative importance of drafting. With considerable data, contestants can flex their creativity problem solving skills.\n",
    "\n",
    "The New York Racing Association (NYRA) and the New York Thoroughbred Horsemen's Association (NYTHA) conduct world class thoroughbred racing at Aqueduct Racetrack, Belmont Park and Saratoga Race Course.\n",
    "\n",
    "With your help, NYRA and NYTHA will better understand their vast data set, which could lead to new ways of racing and training in a highly traditional industry. With improved use of horse tracking data, you could help improve equine welfare, performance and rider decision making."
   ]
  },
  {
   "cell_type": "markdown",
   "id": "7e9cbb5e",
   "metadata": {
    "papermill": {
     "duration": 0.006214,
     "end_time": "2022-08-12T19:24:55.582112",
     "exception": false,
     "start_time": "2022-08-12T19:24:55.575898",
     "status": "completed"
    },
    "tags": []
   },
   "source": [
    "# Goal of the Competition"
   ]
  },
  {
   "cell_type": "markdown",
   "id": "65d371f4",
   "metadata": {
    "papermill": {
     "duration": 0.006748,
     "end_time": "2022-08-12T19:24:55.595327",
     "exception": false,
     "start_time": "2022-08-12T19:24:55.588579",
     "status": "completed"
    },
    "tags": []
   },
   "source": [
    "The goal of this competition is to analyze horse racing tactics, drafting strategies, and path efficiency. You will develop a model using never-before-released coordinate data along with basic race information.\n",
    "\n",
    "Your work will help racing horse owners, trainers, and veterinarians better understand how equine performance and welfare fit together. With better data analysis, equine welfare could significantly improve."
   ]
  },
  {
   "cell_type": "markdown",
   "id": "1355b88c",
   "metadata": {
    "papermill": {
     "duration": 0.006429,
     "end_time": "2022-08-12T19:24:55.608907",
     "exception": false,
     "start_time": "2022-08-12T19:24:55.602478",
     "status": "completed"
    },
    "tags": []
   },
   "source": [
    "# Data Set Description"
   ]
  },
  {
   "cell_type": "markdown",
   "id": "c1626290",
   "metadata": {
    "papermill": {
     "duration": 0.006448,
     "end_time": "2022-08-12T19:24:55.622164",
     "exception": false,
     "start_time": "2022-08-12T19:24:55.615716",
     "status": "completed"
    },
    "tags": []
   },
   "source": [
    "`track_id` - 3 character id for the track the race took place at: **AQU** -Aqueduct, **BEL** - Belmont, **SAR** - Saratoga\n",
    "\n",
    "`race_date` - Date the race took place. YYYY-MM-DD\n",
    "\n",
    "`race_number` - Number of the race. Passed as 3 characters but can be cast or converted to int for this data set\n",
    "\n",
    "`program_number` - Program number of the horse in the race passed as 3 characters. Should remain 3 characters as it isn't limited to just numbers. Is essentially the unique identifier of the horse in the race\n",
    "\n",
    "`weight_carried` - An integer of the weight carried by the horse in the race\n",
    "\n",
    "`jockey` - Name of the jockey on the horse in the race. 50 character max\n",
    "\n",
    "`odds` - Odds to win the race passed as an integer. Divide by 100 to derive the odds to 1. Example - 1280 would be 12.8-1\n",
    "\n",
    "`distance_id` - Distance of the race in furlongs passed as an integer. Example - 600 would be 6 furlongs\n",
    "\n",
    "`course_type` - The course the race was run over passed as one character. **M** - Hurdle, **D** - Dirt, **O** - Outer turf, **I** - Inner turf, **T** - turf\n",
    "\n",
    "`track_condition` - The condition of the course the race was run on passed as three characters. **YL** - Yielding, **FM** - Firm, **SY** - Sloppy, **GD** - Good, **FT** - Fast, **MY** - Muddy, **SF** - Soft\n",
    "\n",
    "`run_up_distance` - Distance in feet of the gate to the start of the race passed as an integer\n",
    "\n",
    "`race_type` - The classification of the race passed as as five characters. **STK** - Stakes, **WCL** - Waiver Claiming, **WMC** - Waiver Maiden Claiming, **SST** - Starter Stakes, **SHP** - Starter Handicap, **CLM** - Claiming, **STR** - Starter Allowance, **AOC** - Allowance Optional Claimer, **SOC** - Starter Optional Claimer, **MCL** - Maiden Claiming, **ALW** - Allowance, **MSW** - Maiden Special Weight\n",
    "\n",
    "`purse` - Purse in US dollars of the race passed as an money with two decimal places\n",
    "\n",
    "`post_time` - Time of day the race began passed as 5 character. Example - 01220 would be 12:20\n",
    "\n",
    "`trakus_index` - The common collection of point of the lat / long of the horse in the race passed as an integer. From what we can tell, it's collected every 0.25 seconds\n",
    "\n",
    "`latitude` - The latitude of the horse in the race passed as a float\n",
    "\n",
    "`longitude` - The longitude of the horse in the race passed as a float"
   ]
  },
  {
   "cell_type": "code",
   "execution_count": 1,
   "id": "a2def738",
   "metadata": {
    "_cell_guid": "b1076dfc-b9ad-4769-8c92-a6c4dae69d19",
    "_uuid": "8f2839f25d086af736a60e9eeb907d3b93b6e0e5",
    "execution": {
     "iopub.execute_input": "2022-08-12T19:24:55.638786Z",
     "iopub.status.busy": "2022-08-12T19:24:55.637775Z",
     "iopub.status.idle": "2022-08-12T19:24:55.656414Z",
     "shell.execute_reply": "2022-08-12T19:24:55.654906Z"
    },
    "papermill": {
     "duration": 0.031525,
     "end_time": "2022-08-12T19:24:55.660414",
     "exception": false,
     "start_time": "2022-08-12T19:24:55.628889",
     "status": "completed"
    },
    "tags": []
   },
   "outputs": [],
   "source": [
    "import numpy as np \n",
    "import pandas as pd \n",
    "\n",
    "import warnings, gc\n",
    "warnings.filterwarnings(\"ignore\")"
   ]
  },
  {
   "cell_type": "code",
   "execution_count": 2,
   "id": "2ca6d15d",
   "metadata": {
    "execution": {
     "iopub.execute_input": "2022-08-12T19:24:55.677591Z",
     "iopub.status.busy": "2022-08-12T19:24:55.677187Z",
     "iopub.status.idle": "2022-08-12T19:25:15.518880Z",
     "shell.execute_reply": "2022-08-12T19:25:15.517801Z"
    },
    "papermill": {
     "duration": 19.852808,
     "end_time": "2022-08-12T19:25:15.521755",
     "exception": false,
     "start_time": "2022-08-12T19:24:55.668947",
     "status": "completed"
    },
    "tags": []
   },
   "outputs": [],
   "source": [
    "nyra_tracking = pd.read_csv(\"/kaggle/input/big-data-derby-2022/nyra_tracking_table.csv\")\n",
    "nyra_start = pd.read_csv(\"/kaggle/input/big-data-derby-2022/nyra_start_table.csv\")\n",
    "nyra_race = pd.read_csv(\"/kaggle/input/big-data-derby-2022/nyra_race_table.csv\")\n",
    "nyra_2019 = pd.read_csv(\"/kaggle/input/big-data-derby-2022/nyra_2019_complete.csv\")"
   ]
  },
  {
   "cell_type": "code",
   "execution_count": 3,
   "id": "2cff1b0c",
   "metadata": {
    "execution": {
     "iopub.execute_input": "2022-08-12T19:25:15.537184Z",
     "iopub.status.busy": "2022-08-12T19:25:15.536805Z",
     "iopub.status.idle": "2022-08-12T19:25:15.557224Z",
     "shell.execute_reply": "2022-08-12T19:25:15.556236Z"
    },
    "papermill": {
     "duration": 0.032043,
     "end_time": "2022-08-12T19:25:15.560699",
     "exception": false,
     "start_time": "2022-08-12T19:25:15.528656",
     "status": "completed"
    },
    "tags": []
   },
   "outputs": [
    {
     "data": {
      "text/html": [
       "<div>\n",
       "<style scoped>\n",
       "    .dataframe tbody tr th:only-of-type {\n",
       "        vertical-align: middle;\n",
       "    }\n",
       "\n",
       "    .dataframe tbody tr th {\n",
       "        vertical-align: top;\n",
       "    }\n",
       "\n",
       "    .dataframe thead th {\n",
       "        text-align: right;\n",
       "    }\n",
       "</style>\n",
       "<table border=\"1\" class=\"dataframe\">\n",
       "  <thead>\n",
       "    <tr style=\"text-align: right;\">\n",
       "      <th></th>\n",
       "      <th>track_id</th>\n",
       "      <th>race_date</th>\n",
       "      <th>race_number</th>\n",
       "      <th>program_number</th>\n",
       "      <th>trakus_index</th>\n",
       "      <th>latitude</th>\n",
       "      <th>longitude</th>\n",
       "    </tr>\n",
       "  </thead>\n",
       "  <tbody>\n",
       "    <tr>\n",
       "      <th>0</th>\n",
       "      <td>AQU</td>\n",
       "      <td>2019-01-01</td>\n",
       "      <td>9</td>\n",
       "      <td>6</td>\n",
       "      <td>72</td>\n",
       "      <td>40.672902</td>\n",
       "      <td>-73.827607</td>\n",
       "    </tr>\n",
       "    <tr>\n",
       "      <th>1</th>\n",
       "      <td>AQU</td>\n",
       "      <td>2019-01-01</td>\n",
       "      <td>9</td>\n",
       "      <td>6</td>\n",
       "      <td>73</td>\n",
       "      <td>40.672946</td>\n",
       "      <td>-73.827587</td>\n",
       "    </tr>\n",
       "    <tr>\n",
       "      <th>2</th>\n",
       "      <td>AQU</td>\n",
       "      <td>2019-01-01</td>\n",
       "      <td>9</td>\n",
       "      <td>6</td>\n",
       "      <td>74</td>\n",
       "      <td>40.672990</td>\n",
       "      <td>-73.827568</td>\n",
       "    </tr>\n",
       "    <tr>\n",
       "      <th>3</th>\n",
       "      <td>AQU</td>\n",
       "      <td>2019-01-01</td>\n",
       "      <td>9</td>\n",
       "      <td>6</td>\n",
       "      <td>63</td>\n",
       "      <td>40.672510</td>\n",
       "      <td>-73.827781</td>\n",
       "    </tr>\n",
       "    <tr>\n",
       "      <th>4</th>\n",
       "      <td>AQU</td>\n",
       "      <td>2019-01-01</td>\n",
       "      <td>9</td>\n",
       "      <td>6</td>\n",
       "      <td>64</td>\n",
       "      <td>40.672553</td>\n",
       "      <td>-73.827762</td>\n",
       "    </tr>\n",
       "  </tbody>\n",
       "</table>\n",
       "</div>"
      ],
      "text/plain": [
       "  track_id   race_date  race_number program_number  trakus_index   latitude  \\\n",
       "0      AQU  2019-01-01            9            6              72  40.672902   \n",
       "1      AQU  2019-01-01            9            6              73  40.672946   \n",
       "2      AQU  2019-01-01            9            6              74  40.672990   \n",
       "3      AQU  2019-01-01            9            6              63  40.672510   \n",
       "4      AQU  2019-01-01            9            6              64  40.672553   \n",
       "\n",
       "   longitude  \n",
       "0 -73.827607  \n",
       "1 -73.827587  \n",
       "2 -73.827568  \n",
       "3 -73.827781  \n",
       "4 -73.827762  "
      ]
     },
     "execution_count": 3,
     "metadata": {},
     "output_type": "execute_result"
    }
   ],
   "source": [
    "nyra_tracking.head()"
   ]
  },
  {
   "cell_type": "code",
   "execution_count": 4,
   "id": "be640a84",
   "metadata": {
    "execution": {
     "iopub.execute_input": "2022-08-12T19:25:15.576040Z",
     "iopub.status.busy": "2022-08-12T19:25:15.575638Z",
     "iopub.status.idle": "2022-08-12T19:25:16.351268Z",
     "shell.execute_reply": "2022-08-12T19:25:16.350175Z"
    },
    "papermill": {
     "duration": 0.785939,
     "end_time": "2022-08-12T19:25:16.353530",
     "exception": false,
     "start_time": "2022-08-12T19:25:15.567591",
     "status": "completed"
    },
    "tags": []
   },
   "outputs": [
    {
     "data": {
      "text/html": [
       "<div>\n",
       "<style scoped>\n",
       "    .dataframe tbody tr th:only-of-type {\n",
       "        vertical-align: middle;\n",
       "    }\n",
       "\n",
       "    .dataframe tbody tr th {\n",
       "        vertical-align: top;\n",
       "    }\n",
       "\n",
       "    .dataframe thead th {\n",
       "        text-align: right;\n",
       "    }\n",
       "</style>\n",
       "<table border=\"1\" class=\"dataframe\">\n",
       "  <thead>\n",
       "    <tr style=\"text-align: right;\">\n",
       "      <th></th>\n",
       "      <th>race_number</th>\n",
       "      <th>trakus_index</th>\n",
       "      <th>latitude</th>\n",
       "      <th>longitude</th>\n",
       "    </tr>\n",
       "  </thead>\n",
       "  <tbody>\n",
       "    <tr>\n",
       "      <th>count</th>\n",
       "      <td>5.228430e+06</td>\n",
       "      <td>5.228430e+06</td>\n",
       "      <td>5.228430e+06</td>\n",
       "      <td>5.228430e+06</td>\n",
       "    </tr>\n",
       "    <tr>\n",
       "      <th>mean</th>\n",
       "      <td>5.505409e+00</td>\n",
       "      <td>1.838652e+02</td>\n",
       "      <td>4.120387e+01</td>\n",
       "      <td>-7.377702e+01</td>\n",
       "    </tr>\n",
       "    <tr>\n",
       "      <th>std</th>\n",
       "      <td>2.860656e+00</td>\n",
       "      <td>1.183327e+02</td>\n",
       "      <td>9.771227e-01</td>\n",
       "      <td>4.711054e-02</td>\n",
       "    </tr>\n",
       "    <tr>\n",
       "      <th>min</th>\n",
       "      <td>1.000000e+00</td>\n",
       "      <td>1.000000e+00</td>\n",
       "      <td>4.066671e+01</td>\n",
       "      <td>-7.383260e+01</td>\n",
       "    </tr>\n",
       "    <tr>\n",
       "      <th>25%</th>\n",
       "      <td>3.000000e+00</td>\n",
       "      <td>8.800000e+01</td>\n",
       "      <td>4.067346e+01</td>\n",
       "      <td>-7.382883e+01</td>\n",
       "    </tr>\n",
       "    <tr>\n",
       "      <th>50%</th>\n",
       "      <td>6.000000e+00</td>\n",
       "      <td>1.760000e+02</td>\n",
       "      <td>4.071393e+01</td>\n",
       "      <td>-7.376915e+01</td>\n",
       "    </tr>\n",
       "    <tr>\n",
       "      <th>75%</th>\n",
       "      <td>8.000000e+00</td>\n",
       "      <td>2.640000e+02</td>\n",
       "      <td>4.071739e+01</td>\n",
       "      <td>-7.372564e+01</td>\n",
       "    </tr>\n",
       "    <tr>\n",
       "      <th>max</th>\n",
       "      <td>1.300000e+01</td>\n",
       "      <td>1.062000e+03</td>\n",
       "      <td>4.307399e+01</td>\n",
       "      <td>-7.371483e+01</td>\n",
       "    </tr>\n",
       "  </tbody>\n",
       "</table>\n",
       "</div>"
      ],
      "text/plain": [
       "        race_number  trakus_index      latitude     longitude\n",
       "count  5.228430e+06  5.228430e+06  5.228430e+06  5.228430e+06\n",
       "mean   5.505409e+00  1.838652e+02  4.120387e+01 -7.377702e+01\n",
       "std    2.860656e+00  1.183327e+02  9.771227e-01  4.711054e-02\n",
       "min    1.000000e+00  1.000000e+00  4.066671e+01 -7.383260e+01\n",
       "25%    3.000000e+00  8.800000e+01  4.067346e+01 -7.382883e+01\n",
       "50%    6.000000e+00  1.760000e+02  4.071393e+01 -7.376915e+01\n",
       "75%    8.000000e+00  2.640000e+02  4.071739e+01 -7.372564e+01\n",
       "max    1.300000e+01  1.062000e+03  4.307399e+01 -7.371483e+01"
      ]
     },
     "execution_count": 4,
     "metadata": {},
     "output_type": "execute_result"
    }
   ],
   "source": [
    "nyra_tracking.describe()"
   ]
  },
  {
   "cell_type": "code",
   "execution_count": 5,
   "id": "fe1603cc",
   "metadata": {
    "execution": {
     "iopub.execute_input": "2022-08-12T19:25:16.369009Z",
     "iopub.status.busy": "2022-08-12T19:25:16.368584Z",
     "iopub.status.idle": "2022-08-12T19:25:16.383785Z",
     "shell.execute_reply": "2022-08-12T19:25:16.382519Z"
    },
    "papermill": {
     "duration": 0.025359,
     "end_time": "2022-08-12T19:25:16.385839",
     "exception": false,
     "start_time": "2022-08-12T19:25:16.360480",
     "status": "completed"
    },
    "tags": []
   },
   "outputs": [
    {
     "name": "stdout",
     "output_type": "stream",
     "text": [
      "<class 'pandas.core.frame.DataFrame'>\n",
      "RangeIndex: 5228430 entries, 0 to 5228429\n",
      "Data columns (total 7 columns):\n",
      " #   Column          Dtype  \n",
      "---  ------          -----  \n",
      " 0   track_id        object \n",
      " 1   race_date       object \n",
      " 2   race_number     int64  \n",
      " 3   program_number  object \n",
      " 4   trakus_index    int64  \n",
      " 5   latitude        float64\n",
      " 6   longitude       float64\n",
      "dtypes: float64(2), int64(2), object(3)\n",
      "memory usage: 279.2+ MB\n"
     ]
    }
   ],
   "source": [
    "nyra_tracking.info()"
   ]
  },
  {
   "cell_type": "code",
   "execution_count": 6,
   "id": "301b7dea",
   "metadata": {
    "execution": {
     "iopub.execute_input": "2022-08-12T19:25:16.402051Z",
     "iopub.status.busy": "2022-08-12T19:25:16.401651Z",
     "iopub.status.idle": "2022-08-12T19:25:16.717347Z",
     "shell.execute_reply": "2022-08-12T19:25:16.716176Z"
    },
    "papermill": {
     "duration": 0.326121,
     "end_time": "2022-08-12T19:25:16.719668",
     "exception": false,
     "start_time": "2022-08-12T19:25:16.393547",
     "status": "completed"
    },
    "tags": []
   },
   "outputs": [
    {
     "data": {
      "text/plain": [
       "AQU    2158369\n",
       "BEL    1947134\n",
       "SAR    1122927\n",
       "Name: track_id, dtype: int64"
      ]
     },
     "execution_count": 6,
     "metadata": {},
     "output_type": "execute_result"
    }
   ],
   "source": [
    "nyra_tracking.track_id.value_counts()"
   ]
  },
  {
   "cell_type": "code",
   "execution_count": 7,
   "id": "2008da13",
   "metadata": {
    "execution": {
     "iopub.execute_input": "2022-08-12T19:25:16.735745Z",
     "iopub.status.busy": "2022-08-12T19:25:16.735349Z",
     "iopub.status.idle": "2022-08-12T19:25:16.788176Z",
     "shell.execute_reply": "2022-08-12T19:25:16.786956Z"
    },
    "papermill": {
     "duration": 0.063257,
     "end_time": "2022-08-12T19:25:16.790493",
     "exception": false,
     "start_time": "2022-08-12T19:25:16.727236",
     "status": "completed"
    },
    "tags": []
   },
   "outputs": [
    {
     "data": {
      "text/plain": [
       "8     582413\n",
       "6     575217\n",
       "5     559884\n",
       "7     554623\n",
       "4     523846\n",
       "2     515115\n",
       "1     508808\n",
       "9     492915\n",
       "3     490256\n",
       "10    283141\n",
       "11     98804\n",
       "12     31725\n",
       "13     11683\n",
       "Name: race_number, dtype: int64"
      ]
     },
     "execution_count": 7,
     "metadata": {},
     "output_type": "execute_result"
    }
   ],
   "source": [
    "nyra_tracking.race_number.value_counts()"
   ]
  },
  {
   "cell_type": "code",
   "execution_count": 8,
   "id": "436de220",
   "metadata": {
    "execution": {
     "iopub.execute_input": "2022-08-12T19:25:16.807589Z",
     "iopub.status.busy": "2022-08-12T19:25:16.806835Z",
     "iopub.status.idle": "2022-08-12T19:25:17.123910Z",
     "shell.execute_reply": "2022-08-12T19:25:17.122931Z"
    },
    "papermill": {
     "duration": 0.328042,
     "end_time": "2022-08-12T19:25:17.126115",
     "exception": false,
     "start_time": "2022-08-12T19:25:16.798073",
     "status": "completed"
    },
    "tags": []
   },
   "outputs": [
    {
     "data": {
      "text/plain": [
       "4      611396\n",
       "3      611025\n",
       "5      606666\n",
       "2      602597\n",
       "1      599979\n",
       "6      579893\n",
       "7      486905\n",
       "8      373202\n",
       "9      266526\n",
       "10     186835\n",
       "11     117532\n",
       "12      71363\n",
       "1A      56753\n",
       "13      26507\n",
       "14      15081\n",
       "15       7917\n",
       "2B       4081\n",
       "16       3591\n",
       "3X        334\n",
       "1X        247\n",
       "Name: program_number, dtype: int64"
      ]
     },
     "execution_count": 8,
     "metadata": {},
     "output_type": "execute_result"
    }
   ],
   "source": [
    "nyra_tracking.program_number.value_counts()"
   ]
  },
  {
   "cell_type": "code",
   "execution_count": 9,
   "id": "f0483e82",
   "metadata": {
    "execution": {
     "iopub.execute_input": "2022-08-12T19:25:17.143333Z",
     "iopub.status.busy": "2022-08-12T19:25:17.142579Z",
     "iopub.status.idle": "2022-08-12T19:25:17.156457Z",
     "shell.execute_reply": "2022-08-12T19:25:17.155198Z"
    },
    "papermill": {
     "duration": 0.025019,
     "end_time": "2022-08-12T19:25:17.158820",
     "exception": false,
     "start_time": "2022-08-12T19:25:17.133801",
     "status": "completed"
    },
    "tags": []
   },
   "outputs": [
    {
     "data": {
      "text/html": [
       "<div>\n",
       "<style scoped>\n",
       "    .dataframe tbody tr th:only-of-type {\n",
       "        vertical-align: middle;\n",
       "    }\n",
       "\n",
       "    .dataframe tbody tr th {\n",
       "        vertical-align: top;\n",
       "    }\n",
       "\n",
       "    .dataframe thead th {\n",
       "        text-align: right;\n",
       "    }\n",
       "</style>\n",
       "<table border=\"1\" class=\"dataframe\">\n",
       "  <thead>\n",
       "    <tr style=\"text-align: right;\">\n",
       "      <th></th>\n",
       "      <th>track_id</th>\n",
       "      <th>race_date</th>\n",
       "      <th>race_number</th>\n",
       "      <th>program_number</th>\n",
       "      <th>weight_carried</th>\n",
       "      <th>jockey</th>\n",
       "      <th>odds</th>\n",
       "    </tr>\n",
       "  </thead>\n",
       "  <tbody>\n",
       "    <tr>\n",
       "      <th>0</th>\n",
       "      <td>AQU</td>\n",
       "      <td>2019-01-01</td>\n",
       "      <td>1</td>\n",
       "      <td>1</td>\n",
       "      <td>123</td>\n",
       "      <td>Dylan Davis</td>\n",
       "      <td>130</td>\n",
       "    </tr>\n",
       "    <tr>\n",
       "      <th>1</th>\n",
       "      <td>AQU</td>\n",
       "      <td>2019-01-01</td>\n",
       "      <td>1</td>\n",
       "      <td>2</td>\n",
       "      <td>120</td>\n",
       "      <td>Junior Alvarado</td>\n",
       "      <td>295</td>\n",
       "    </tr>\n",
       "    <tr>\n",
       "      <th>2</th>\n",
       "      <td>AQU</td>\n",
       "      <td>2019-01-01</td>\n",
       "      <td>1</td>\n",
       "      <td>3</td>\n",
       "      <td>118</td>\n",
       "      <td>Jose Lezcano</td>\n",
       "      <td>180</td>\n",
       "    </tr>\n",
       "    <tr>\n",
       "      <th>3</th>\n",
       "      <td>AQU</td>\n",
       "      <td>2019-01-01</td>\n",
       "      <td>1</td>\n",
       "      <td>4</td>\n",
       "      <td>123</td>\n",
       "      <td>Jomar Garcia</td>\n",
       "      <td>1280</td>\n",
       "    </tr>\n",
       "    <tr>\n",
       "      <th>4</th>\n",
       "      <td>AQU</td>\n",
       "      <td>2019-01-01</td>\n",
       "      <td>1</td>\n",
       "      <td>5</td>\n",
       "      <td>118</td>\n",
       "      <td>Manuel Franco</td>\n",
       "      <td>1150</td>\n",
       "    </tr>\n",
       "  </tbody>\n",
       "</table>\n",
       "</div>"
      ],
      "text/plain": [
       "  track_id   race_date  race_number program_number  weight_carried  \\\n",
       "0      AQU  2019-01-01            1            1               123   \n",
       "1      AQU  2019-01-01            1            2               120   \n",
       "2      AQU  2019-01-01            1            3               118   \n",
       "3      AQU  2019-01-01            1            4               123   \n",
       "4      AQU  2019-01-01            1            5               118   \n",
       "\n",
       "            jockey  odds  \n",
       "0      Dylan Davis   130  \n",
       "1  Junior Alvarado   295  \n",
       "2     Jose Lezcano   180  \n",
       "3     Jomar Garcia  1280  \n",
       "4    Manuel Franco  1150  "
      ]
     },
     "execution_count": 9,
     "metadata": {},
     "output_type": "execute_result"
    }
   ],
   "source": [
    "nyra_start.head()"
   ]
  },
  {
   "cell_type": "code",
   "execution_count": 10,
   "id": "c5d2b053",
   "metadata": {
    "execution": {
     "iopub.execute_input": "2022-08-12T19:25:17.177001Z",
     "iopub.status.busy": "2022-08-12T19:25:17.176608Z",
     "iopub.status.idle": "2022-08-12T19:25:17.197444Z",
     "shell.execute_reply": "2022-08-12T19:25:17.196287Z"
    },
    "papermill": {
     "duration": 0.032353,
     "end_time": "2022-08-12T19:25:17.199652",
     "exception": false,
     "start_time": "2022-08-12T19:25:17.167299",
     "status": "completed"
    },
    "tags": []
   },
   "outputs": [
    {
     "data": {
      "text/html": [
       "<div>\n",
       "<style scoped>\n",
       "    .dataframe tbody tr th:only-of-type {\n",
       "        vertical-align: middle;\n",
       "    }\n",
       "\n",
       "    .dataframe tbody tr th {\n",
       "        vertical-align: top;\n",
       "    }\n",
       "\n",
       "    .dataframe thead th {\n",
       "        text-align: right;\n",
       "    }\n",
       "</style>\n",
       "<table border=\"1\" class=\"dataframe\">\n",
       "  <thead>\n",
       "    <tr style=\"text-align: right;\">\n",
       "      <th></th>\n",
       "      <th>race_number</th>\n",
       "      <th>weight_carried</th>\n",
       "      <th>odds</th>\n",
       "    </tr>\n",
       "  </thead>\n",
       "  <tbody>\n",
       "    <tr>\n",
       "      <th>count</th>\n",
       "      <td>14915.000000</td>\n",
       "      <td>14915.000000</td>\n",
       "      <td>14915.000000</td>\n",
       "    </tr>\n",
       "    <tr>\n",
       "      <th>mean</th>\n",
       "      <td>5.494200</td>\n",
       "      <td>120.454040</td>\n",
       "      <td>1483.496480</td>\n",
       "    </tr>\n",
       "    <tr>\n",
       "      <th>std</th>\n",
       "      <td>2.826058</td>\n",
       "      <td>3.522007</td>\n",
       "      <td>1956.137156</td>\n",
       "    </tr>\n",
       "    <tr>\n",
       "      <th>min</th>\n",
       "      <td>1.000000</td>\n",
       "      <td>110.000000</td>\n",
       "      <td>0.000000</td>\n",
       "    </tr>\n",
       "    <tr>\n",
       "      <th>25%</th>\n",
       "      <td>3.000000</td>\n",
       "      <td>118.000000</td>\n",
       "      <td>335.000000</td>\n",
       "    </tr>\n",
       "    <tr>\n",
       "      <th>50%</th>\n",
       "      <td>6.000000</td>\n",
       "      <td>120.000000</td>\n",
       "      <td>730.000000</td>\n",
       "    </tr>\n",
       "    <tr>\n",
       "      <th>75%</th>\n",
       "      <td>8.000000</td>\n",
       "      <td>122.000000</td>\n",
       "      <td>1740.000000</td>\n",
       "    </tr>\n",
       "    <tr>\n",
       "      <th>max</th>\n",
       "      <td>13.000000</td>\n",
       "      <td>160.000000</td>\n",
       "      <td>19100.000000</td>\n",
       "    </tr>\n",
       "  </tbody>\n",
       "</table>\n",
       "</div>"
      ],
      "text/plain": [
       "        race_number  weight_carried          odds\n",
       "count  14915.000000    14915.000000  14915.000000\n",
       "mean       5.494200      120.454040   1483.496480\n",
       "std        2.826058        3.522007   1956.137156\n",
       "min        1.000000      110.000000      0.000000\n",
       "25%        3.000000      118.000000    335.000000\n",
       "50%        6.000000      120.000000    730.000000\n",
       "75%        8.000000      122.000000   1740.000000\n",
       "max       13.000000      160.000000  19100.000000"
      ]
     },
     "execution_count": 10,
     "metadata": {},
     "output_type": "execute_result"
    }
   ],
   "source": [
    "nyra_start.describe()"
   ]
  },
  {
   "cell_type": "code",
   "execution_count": 11,
   "id": "cb668b77",
   "metadata": {
    "execution": {
     "iopub.execute_input": "2022-08-12T19:25:17.217086Z",
     "iopub.status.busy": "2022-08-12T19:25:17.216550Z",
     "iopub.status.idle": "2022-08-12T19:25:17.231058Z",
     "shell.execute_reply": "2022-08-12T19:25:17.230119Z"
    },
    "papermill": {
     "duration": 0.025962,
     "end_time": "2022-08-12T19:25:17.233494",
     "exception": false,
     "start_time": "2022-08-12T19:25:17.207532",
     "status": "completed"
    },
    "tags": []
   },
   "outputs": [
    {
     "name": "stdout",
     "output_type": "stream",
     "text": [
      "<class 'pandas.core.frame.DataFrame'>\n",
      "RangeIndex: 14915 entries, 0 to 14914\n",
      "Data columns (total 7 columns):\n",
      " #   Column          Non-Null Count  Dtype \n",
      "---  ------          --------------  ----- \n",
      " 0   track_id        14915 non-null  object\n",
      " 1   race_date       14915 non-null  object\n",
      " 2   race_number     14915 non-null  int64 \n",
      " 3   program_number  14915 non-null  object\n",
      " 4   weight_carried  14915 non-null  int64 \n",
      " 5   jockey          14915 non-null  object\n",
      " 6   odds            14915 non-null  int64 \n",
      "dtypes: int64(3), object(4)\n",
      "memory usage: 815.8+ KB\n"
     ]
    }
   ],
   "source": [
    "nyra_start.info()"
   ]
  },
  {
   "cell_type": "code",
   "execution_count": 12,
   "id": "f7d9196f",
   "metadata": {
    "execution": {
     "iopub.execute_input": "2022-08-12T19:25:17.251284Z",
     "iopub.status.busy": "2022-08-12T19:25:17.250646Z",
     "iopub.status.idle": "2022-08-12T19:25:17.258783Z",
     "shell.execute_reply": "2022-08-12T19:25:17.258059Z"
    },
    "papermill": {
     "duration": 0.019087,
     "end_time": "2022-08-12T19:25:17.260845",
     "exception": false,
     "start_time": "2022-08-12T19:25:17.241758",
     "status": "completed"
    },
    "tags": []
   },
   "outputs": [
    {
     "data": {
      "text/plain": [
       "AQU    6191\n",
       "BEL    5539\n",
       "SAR    3185\n",
       "Name: track_id, dtype: int64"
      ]
     },
     "execution_count": 12,
     "metadata": {},
     "output_type": "execute_result"
    }
   ],
   "source": [
    "nyra_start.track_id.value_counts()"
   ]
  },
  {
   "cell_type": "code",
   "execution_count": 13,
   "id": "35905796",
   "metadata": {
    "execution": {
     "iopub.execute_input": "2022-08-12T19:25:17.279182Z",
     "iopub.status.busy": "2022-08-12T19:25:17.278292Z",
     "iopub.status.idle": "2022-08-12T19:25:17.286516Z",
     "shell.execute_reply": "2022-08-12T19:25:17.285755Z"
    },
    "papermill": {
     "duration": 0.019366,
     "end_time": "2022-08-12T19:25:17.288496",
     "exception": false,
     "start_time": "2022-08-12T19:25:17.269130",
     "status": "completed"
    },
    "tags": []
   },
   "outputs": [
    {
     "data": {
      "text/plain": [
       "6     1689\n",
       "8     1648\n",
       "5     1630\n",
       "7     1586\n",
       "4     1538\n",
       "2     1493\n",
       "3     1421\n",
       "9     1382\n",
       "1     1364\n",
       "10     772\n",
       "11     276\n",
       "12      91\n",
       "13      25\n",
       "Name: race_number, dtype: int64"
      ]
     },
     "execution_count": 13,
     "metadata": {},
     "output_type": "execute_result"
    }
   ],
   "source": [
    "nyra_start.race_number.value_counts()"
   ]
  },
  {
   "cell_type": "code",
   "execution_count": 14,
   "id": "f7accd01",
   "metadata": {
    "execution": {
     "iopub.execute_input": "2022-08-12T19:25:17.307402Z",
     "iopub.status.busy": "2022-08-12T19:25:17.306363Z",
     "iopub.status.idle": "2022-08-12T19:25:17.315920Z",
     "shell.execute_reply": "2022-08-12T19:25:17.314801Z"
    },
    "papermill": {
     "duration": 0.021257,
     "end_time": "2022-08-12T19:25:17.318143",
     "exception": false,
     "start_time": "2022-08-12T19:25:17.296886",
     "status": "completed"
    },
    "tags": []
   },
   "outputs": [
    {
     "data": {
      "text/plain": [
       "4      1748\n",
       "3      1743\n",
       "5      1731\n",
       "2      1715\n",
       "1      1708\n",
       "6      1652\n",
       "7      1390\n",
       "8      1066\n",
       "9       761\n",
       "10      535\n",
       "11      333\n",
       "12      201\n",
       "1A      164\n",
       "13       77\n",
       "14       44\n",
       "15       24\n",
       "2B       11\n",
       "16       10\n",
       "3X        1\n",
       "1X        1\n",
       "Name: program_number, dtype: int64"
      ]
     },
     "execution_count": 14,
     "metadata": {},
     "output_type": "execute_result"
    }
   ],
   "source": [
    "nyra_start.program_number.value_counts()"
   ]
  },
  {
   "cell_type": "code",
   "execution_count": 15,
   "id": "73278ede",
   "metadata": {
    "execution": {
     "iopub.execute_input": "2022-08-12T19:25:17.336941Z",
     "iopub.status.busy": "2022-08-12T19:25:17.336087Z",
     "iopub.status.idle": "2022-08-12T19:25:17.349787Z",
     "shell.execute_reply": "2022-08-12T19:25:17.348890Z"
    },
    "papermill": {
     "duration": 0.025229,
     "end_time": "2022-08-12T19:25:17.351944",
     "exception": false,
     "start_time": "2022-08-12T19:25:17.326715",
     "status": "completed"
    },
    "tags": []
   },
   "outputs": [
    {
     "data": {
      "text/html": [
       "<div>\n",
       "<style scoped>\n",
       "    .dataframe tbody tr th:only-of-type {\n",
       "        vertical-align: middle;\n",
       "    }\n",
       "\n",
       "    .dataframe tbody tr th {\n",
       "        vertical-align: top;\n",
       "    }\n",
       "\n",
       "    .dataframe thead th {\n",
       "        text-align: right;\n",
       "    }\n",
       "</style>\n",
       "<table border=\"1\" class=\"dataframe\">\n",
       "  <thead>\n",
       "    <tr style=\"text-align: right;\">\n",
       "      <th></th>\n",
       "      <th>track_id</th>\n",
       "      <th>race_date</th>\n",
       "      <th>race_number</th>\n",
       "      <th>distance_id</th>\n",
       "      <th>course_type</th>\n",
       "      <th>track_condition</th>\n",
       "      <th>run_up_distance</th>\n",
       "      <th>race_type</th>\n",
       "      <th>purse</th>\n",
       "      <th>post_time</th>\n",
       "    </tr>\n",
       "  </thead>\n",
       "  <tbody>\n",
       "    <tr>\n",
       "      <th>0</th>\n",
       "      <td>AQU</td>\n",
       "      <td>2019-01-01</td>\n",
       "      <td>1</td>\n",
       "      <td>650</td>\n",
       "      <td>D</td>\n",
       "      <td>MY</td>\n",
       "      <td>36</td>\n",
       "      <td>AOC</td>\n",
       "      <td>80000</td>\n",
       "      <td>1220</td>\n",
       "    </tr>\n",
       "    <tr>\n",
       "      <th>1</th>\n",
       "      <td>AQU</td>\n",
       "      <td>2019-01-01</td>\n",
       "      <td>2</td>\n",
       "      <td>600</td>\n",
       "      <td>D</td>\n",
       "      <td>MY</td>\n",
       "      <td>48</td>\n",
       "      <td>MCL</td>\n",
       "      <td>41000</td>\n",
       "      <td>1250</td>\n",
       "    </tr>\n",
       "    <tr>\n",
       "      <th>2</th>\n",
       "      <td>AQU</td>\n",
       "      <td>2019-01-01</td>\n",
       "      <td>3</td>\n",
       "      <td>550</td>\n",
       "      <td>D</td>\n",
       "      <td>MY</td>\n",
       "      <td>54</td>\n",
       "      <td>MCL</td>\n",
       "      <td>35000</td>\n",
       "      <td>121</td>\n",
       "    </tr>\n",
       "    <tr>\n",
       "      <th>3</th>\n",
       "      <td>AQU</td>\n",
       "      <td>2019-01-01</td>\n",
       "      <td>4</td>\n",
       "      <td>900</td>\n",
       "      <td>D</td>\n",
       "      <td>MY</td>\n",
       "      <td>101</td>\n",
       "      <td>AOC</td>\n",
       "      <td>80000</td>\n",
       "      <td>150</td>\n",
       "    </tr>\n",
       "    <tr>\n",
       "      <th>4</th>\n",
       "      <td>AQU</td>\n",
       "      <td>2019-01-01</td>\n",
       "      <td>5</td>\n",
       "      <td>700</td>\n",
       "      <td>D</td>\n",
       "      <td>MY</td>\n",
       "      <td>60</td>\n",
       "      <td>ALW</td>\n",
       "      <td>64000</td>\n",
       "      <td>220</td>\n",
       "    </tr>\n",
       "  </tbody>\n",
       "</table>\n",
       "</div>"
      ],
      "text/plain": [
       "  track_id   race_date  race_number  distance_id course_type track_condition  \\\n",
       "0      AQU  2019-01-01            1          650           D             MY    \n",
       "1      AQU  2019-01-01            2          600           D             MY    \n",
       "2      AQU  2019-01-01            3          550           D             MY    \n",
       "3      AQU  2019-01-01            4          900           D             MY    \n",
       "4      AQU  2019-01-01            5          700           D             MY    \n",
       "\n",
       "   run_up_distance race_type  purse  post_time  \n",
       "0               36       AOC  80000       1220  \n",
       "1               48       MCL  41000       1250  \n",
       "2               54       MCL  35000        121  \n",
       "3              101       AOC  80000        150  \n",
       "4               60       ALW  64000        220  "
      ]
     },
     "execution_count": 15,
     "metadata": {},
     "output_type": "execute_result"
    }
   ],
   "source": [
    "nyra_race.head()"
   ]
  },
  {
   "cell_type": "code",
   "execution_count": 16,
   "id": "effb8048",
   "metadata": {
    "execution": {
     "iopub.execute_input": "2022-08-12T19:25:17.371445Z",
     "iopub.status.busy": "2022-08-12T19:25:17.370654Z",
     "iopub.status.idle": "2022-08-12T19:25:17.398206Z",
     "shell.execute_reply": "2022-08-12T19:25:17.397099Z"
    },
    "papermill": {
     "duration": 0.040022,
     "end_time": "2022-08-12T19:25:17.400582",
     "exception": false,
     "start_time": "2022-08-12T19:25:17.360560",
     "status": "completed"
    },
    "tags": []
   },
   "outputs": [
    {
     "data": {
      "text/html": [
       "<div>\n",
       "<style scoped>\n",
       "    .dataframe tbody tr th:only-of-type {\n",
       "        vertical-align: middle;\n",
       "    }\n",
       "\n",
       "    .dataframe tbody tr th {\n",
       "        vertical-align: top;\n",
       "    }\n",
       "\n",
       "    .dataframe thead th {\n",
       "        text-align: right;\n",
       "    }\n",
       "</style>\n",
       "<table border=\"1\" class=\"dataframe\">\n",
       "  <thead>\n",
       "    <tr style=\"text-align: right;\">\n",
       "      <th></th>\n",
       "      <th>race_number</th>\n",
       "      <th>distance_id</th>\n",
       "      <th>run_up_distance</th>\n",
       "      <th>purse</th>\n",
       "      <th>post_time</th>\n",
       "    </tr>\n",
       "  </thead>\n",
       "  <tbody>\n",
       "    <tr>\n",
       "      <th>count</th>\n",
       "      <td>2000.000000</td>\n",
       "      <td>2000.000000</td>\n",
       "      <td>2000.000000</td>\n",
       "      <td>2.000000e+03</td>\n",
       "      <td>2000.000000</td>\n",
       "    </tr>\n",
       "    <tr>\n",
       "      <th>mean</th>\n",
       "      <td>5.224500</td>\n",
       "      <td>725.850000</td>\n",
       "      <td>65.650000</td>\n",
       "      <td>8.252010e+04</td>\n",
       "      <td>406.936500</td>\n",
       "    </tr>\n",
       "    <tr>\n",
       "      <th>std</th>\n",
       "      <td>2.803931</td>\n",
       "      <td>148.189938</td>\n",
       "      <td>36.111446</td>\n",
       "      <td>1.061118e+05</td>\n",
       "      <td>280.338353</td>\n",
       "    </tr>\n",
       "    <tr>\n",
       "      <th>min</th>\n",
       "      <td>1.000000</td>\n",
       "      <td>450.000000</td>\n",
       "      <td>0.000000</td>\n",
       "      <td>1.600000e+04</td>\n",
       "      <td>100.000000</td>\n",
       "    </tr>\n",
       "    <tr>\n",
       "      <th>25%</th>\n",
       "      <td>3.000000</td>\n",
       "      <td>600.000000</td>\n",
       "      <td>45.000000</td>\n",
       "      <td>4.200000e+04</td>\n",
       "      <td>225.000000</td>\n",
       "    </tr>\n",
       "    <tr>\n",
       "      <th>50%</th>\n",
       "      <td>5.000000</td>\n",
       "      <td>700.000000</td>\n",
       "      <td>54.000000</td>\n",
       "      <td>6.200000e+04</td>\n",
       "      <td>340.000000</td>\n",
       "    </tr>\n",
       "    <tr>\n",
       "      <th>75%</th>\n",
       "      <td>7.250000</td>\n",
       "      <td>800.000000</td>\n",
       "      <td>76.000000</td>\n",
       "      <td>8.000000e+04</td>\n",
       "      <td>509.000000</td>\n",
       "    </tr>\n",
       "    <tr>\n",
       "      <th>max</th>\n",
       "      <td>13.000000</td>\n",
       "      <td>2000.000000</td>\n",
       "      <td>280.000000</td>\n",
       "      <td>1.500000e+06</td>\n",
       "      <td>1259.000000</td>\n",
       "    </tr>\n",
       "  </tbody>\n",
       "</table>\n",
       "</div>"
      ],
      "text/plain": [
       "       race_number  distance_id  run_up_distance         purse    post_time\n",
       "count  2000.000000  2000.000000      2000.000000  2.000000e+03  2000.000000\n",
       "mean      5.224500   725.850000        65.650000  8.252010e+04   406.936500\n",
       "std       2.803931   148.189938        36.111446  1.061118e+05   280.338353\n",
       "min       1.000000   450.000000         0.000000  1.600000e+04   100.000000\n",
       "25%       3.000000   600.000000        45.000000  4.200000e+04   225.000000\n",
       "50%       5.000000   700.000000        54.000000  6.200000e+04   340.000000\n",
       "75%       7.250000   800.000000        76.000000  8.000000e+04   509.000000\n",
       "max      13.000000  2000.000000       280.000000  1.500000e+06  1259.000000"
      ]
     },
     "execution_count": 16,
     "metadata": {},
     "output_type": "execute_result"
    }
   ],
   "source": [
    "nyra_race.describe()"
   ]
  },
  {
   "cell_type": "code",
   "execution_count": 17,
   "id": "96e110d6",
   "metadata": {
    "execution": {
     "iopub.execute_input": "2022-08-12T19:25:17.419998Z",
     "iopub.status.busy": "2022-08-12T19:25:17.419594Z",
     "iopub.status.idle": "2022-08-12T19:25:17.433698Z",
     "shell.execute_reply": "2022-08-12T19:25:17.432451Z"
    },
    "papermill": {
     "duration": 0.026639,
     "end_time": "2022-08-12T19:25:17.436208",
     "exception": false,
     "start_time": "2022-08-12T19:25:17.409569",
     "status": "completed"
    },
    "tags": []
   },
   "outputs": [
    {
     "name": "stdout",
     "output_type": "stream",
     "text": [
      "<class 'pandas.core.frame.DataFrame'>\n",
      "RangeIndex: 2000 entries, 0 to 1999\n",
      "Data columns (total 10 columns):\n",
      " #   Column           Non-Null Count  Dtype \n",
      "---  ------           --------------  ----- \n",
      " 0   track_id         2000 non-null   object\n",
      " 1   race_date        2000 non-null   object\n",
      " 2   race_number      2000 non-null   int64 \n",
      " 3   distance_id      2000 non-null   int64 \n",
      " 4   course_type      2000 non-null   object\n",
      " 5   track_condition  2000 non-null   object\n",
      " 6   run_up_distance  2000 non-null   int64 \n",
      " 7   race_type        2000 non-null   object\n",
      " 8   purse            2000 non-null   int64 \n",
      " 9   post_time        2000 non-null   int64 \n",
      "dtypes: int64(5), object(5)\n",
      "memory usage: 156.4+ KB\n"
     ]
    }
   ],
   "source": [
    "nyra_race.info()"
   ]
  },
  {
   "cell_type": "code",
   "execution_count": 18,
   "id": "6593a939",
   "metadata": {
    "execution": {
     "iopub.execute_input": "2022-08-12T19:25:17.458056Z",
     "iopub.status.busy": "2022-08-12T19:25:17.457628Z",
     "iopub.status.idle": "2022-08-12T19:25:17.465350Z",
     "shell.execute_reply": "2022-08-12T19:25:17.464226Z"
    },
    "papermill": {
     "duration": 0.020319,
     "end_time": "2022-08-12T19:25:17.467477",
     "exception": false,
     "start_time": "2022-08-12T19:25:17.447158",
     "status": "completed"
    },
    "tags": []
   },
   "outputs": [
    {
     "data": {
      "text/plain": [
       "AQU    825\n",
       "BEL    772\n",
       "SAR    403\n",
       "Name: track_id, dtype: int64"
      ]
     },
     "execution_count": 18,
     "metadata": {},
     "output_type": "execute_result"
    }
   ],
   "source": [
    "nyra_race.track_id.value_counts()"
   ]
  },
  {
   "cell_type": "code",
   "execution_count": 19,
   "id": "5947b298",
   "metadata": {
    "execution": {
     "iopub.execute_input": "2022-08-12T19:25:17.487529Z",
     "iopub.status.busy": "2022-08-12T19:25:17.487159Z",
     "iopub.status.idle": "2022-08-12T19:25:17.495484Z",
     "shell.execute_reply": "2022-08-12T19:25:17.494212Z"
    },
    "papermill": {
     "duration": 0.021677,
     "end_time": "2022-08-12T19:25:17.498252",
     "exception": false,
     "start_time": "2022-08-12T19:25:17.476575",
     "status": "completed"
    },
    "tags": []
   },
   "outputs": [
    {
     "data": {
      "text/plain": [
       "2     216\n",
       "3     216\n",
       "4     216\n",
       "1     215\n",
       "5     213\n",
       "6     212\n",
       "7     212\n",
       "8     212\n",
       "9     163\n",
       "10     84\n",
       "11     29\n",
       "12      9\n",
       "13      3\n",
       "Name: race_number, dtype: int64"
      ]
     },
     "execution_count": 19,
     "metadata": {},
     "output_type": "execute_result"
    }
   ],
   "source": [
    "nyra_race.race_number.value_counts()"
   ]
  },
  {
   "cell_type": "code",
   "execution_count": 20,
   "id": "3287a7dd",
   "metadata": {
    "execution": {
     "iopub.execute_input": "2022-08-12T19:25:17.519447Z",
     "iopub.status.busy": "2022-08-12T19:25:17.519075Z",
     "iopub.status.idle": "2022-08-12T19:25:17.527418Z",
     "shell.execute_reply": "2022-08-12T19:25:17.526293Z"
    },
    "papermill": {
     "duration": 0.021371,
     "end_time": "2022-08-12T19:25:17.529545",
     "exception": false,
     "start_time": "2022-08-12T19:25:17.508174",
     "status": "completed"
    },
    "tags": []
   },
   "outputs": [
    {
     "data": {
      "text/plain": [
       "D    1351\n",
       "T     324\n",
       "I     249\n",
       "O      67\n",
       "M       9\n",
       "Name: course_type, dtype: int64"
      ]
     },
     "execution_count": 20,
     "metadata": {},
     "output_type": "execute_result"
    }
   ],
   "source": [
    "nyra_race.course_type.value_counts()"
   ]
  },
  {
   "cell_type": "code",
   "execution_count": 21,
   "id": "dd82fc34",
   "metadata": {
    "execution": {
     "iopub.execute_input": "2022-08-12T19:25:17.549676Z",
     "iopub.status.busy": "2022-08-12T19:25:17.549310Z",
     "iopub.status.idle": "2022-08-12T19:25:17.558049Z",
     "shell.execute_reply": "2022-08-12T19:25:17.556929Z"
    },
    "papermill": {
     "duration": 0.021762,
     "end_time": "2022-08-12T19:25:17.560598",
     "exception": false,
     "start_time": "2022-08-12T19:25:17.538836",
     "status": "completed"
    },
    "tags": []
   },
   "outputs": [
    {
     "data": {
      "text/plain": [
       "FT     978\n",
       "FM     455\n",
       "GD     253\n",
       "SY     207\n",
       "MY      74\n",
       "YL      30\n",
       "SF       3\n",
       "Name: track_condition, dtype: int64"
      ]
     },
     "execution_count": 21,
     "metadata": {},
     "output_type": "execute_result"
    }
   ],
   "source": [
    "nyra_race.track_condition.value_counts()"
   ]
  },
  {
   "cell_type": "code",
   "execution_count": 22,
   "id": "aac50fc8",
   "metadata": {
    "execution": {
     "iopub.execute_input": "2022-08-12T19:25:17.581256Z",
     "iopub.status.busy": "2022-08-12T19:25:17.580860Z",
     "iopub.status.idle": "2022-08-12T19:25:17.589964Z",
     "shell.execute_reply": "2022-08-12T19:25:17.588802Z"
    },
    "papermill": {
     "duration": 0.022261,
     "end_time": "2022-08-12T19:25:17.592293",
     "exception": false,
     "start_time": "2022-08-12T19:25:17.570032",
     "status": "completed"
    },
    "tags": []
   },
   "outputs": [
    {
     "data": {
      "text/plain": [
       "CLM    471\n",
       "MSW    406\n",
       "MCL    325\n",
       "STK    259\n",
       "AOC    229\n",
       "ALW    193\n",
       "STR     77\n",
       "SOC     18\n",
       "SST     10\n",
       "WCL      9\n",
       "SHP      2\n",
       "WMC      1\n",
       "Name: race_type, dtype: int64"
      ]
     },
     "execution_count": 22,
     "metadata": {},
     "output_type": "execute_result"
    }
   ],
   "source": [
    "nyra_race.race_type.value_counts()"
   ]
  }
 ],
 "metadata": {
  "kernelspec": {
   "display_name": "Python 3",
   "language": "python",
   "name": "python3"
  },
  "language_info": {
   "codemirror_mode": {
    "name": "ipython",
    "version": 3
   },
   "file_extension": ".py",
   "mimetype": "text/x-python",
   "name": "python",
   "nbconvert_exporter": "python",
   "pygments_lexer": "ipython3",
   "version": "3.7.12"
  },
  "papermill": {
   "default_parameters": {},
   "duration": 32.164071,
   "end_time": "2022-08-12T19:25:18.423675",
   "environment_variables": {},
   "exception": null,
   "input_path": "__notebook__.ipynb",
   "output_path": "__notebook__.ipynb",
   "parameters": {},
   "start_time": "2022-08-12T19:24:46.259604",
   "version": "2.3.4"
  }
 },
 "nbformat": 4,
 "nbformat_minor": 5
}
