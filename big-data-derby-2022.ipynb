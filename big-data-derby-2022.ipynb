{
 "cells": [
  {
   "cell_type": "markdown",
   "id": "07306edb",
   "metadata": {
    "papermill": {
     "duration": 0.008858,
     "end_time": "2022-08-12T19:14:37.578580",
     "exception": false,
     "start_time": "2022-08-12T19:14:37.569722",
     "status": "completed"
    },
    "tags": []
   },
   "source": [
    "# Context"
   ]
  },
  {
   "cell_type": "markdown",
   "id": "c021576c",
   "metadata": {
    "papermill": {
     "duration": 0.007003,
     "end_time": "2022-08-12T19:14:37.592961",
     "exception": false,
     "start_time": "2022-08-12T19:14:37.585958",
     "status": "completed"
    },
    "tags": []
   },
   "source": [
    "Injury prevention is a critical component in modern athletics. Sports that involve animals, such as horse racing, are no different than human sport. Typically, efficiency in movement correlates to both improvements in performance and injury prevention.\n",
    "\n",
    "A wealth of data is now collected, including measures for heart rate, EKG, longitudinal movement, dorsal/ventral movement, medial/lateral deviation, total power and total landing vibration. Your data science skills and analysis are needed to decipher what makes the most positive impact.\n",
    "\n",
    "In this competition, you will create a model to interpret one aspect of this new data. You’ll be among the first to access X/Y coordinate mapping of horses during races. Using the data, you might analyze jockey decision making, compare race surfaces, or measure the relative importance of drafting. With considerable data, contestants can flex their creativity problem solving skills.\n",
    "\n",
    "The New York Racing Association (NYRA) and the New York Thoroughbred Horsemen's Association (NYTHA) conduct world class thoroughbred racing at Aqueduct Racetrack, Belmont Park and Saratoga Race Course.\n",
    "\n",
    "With your help, NYRA and NYTHA will better understand their vast data set, which could lead to new ways of racing and training in a highly traditional industry. With improved use of horse tracking data, you could help improve equine welfare, performance and rider decision making."
   ]
  },
  {
   "cell_type": "markdown",
   "id": "8988beed",
   "metadata": {
    "papermill": {
     "duration": 0.006772,
     "end_time": "2022-08-12T19:14:37.606863",
     "exception": false,
     "start_time": "2022-08-12T19:14:37.600091",
     "status": "completed"
    },
    "tags": []
   },
   "source": [
    "# Goal of the Competition"
   ]
  },
  {
   "cell_type": "markdown",
   "id": "b5a2a2cd",
   "metadata": {
    "papermill": {
     "duration": 0.006812,
     "end_time": "2022-08-12T19:14:37.620652",
     "exception": false,
     "start_time": "2022-08-12T19:14:37.613840",
     "status": "completed"
    },
    "tags": []
   },
   "source": [
    "The goal of this competition is to analyze horse racing tactics, drafting strategies, and path efficiency. You will develop a model using never-before-released coordinate data along with basic race information.\n",
    "\n",
    "Your work will help racing horse owners, trainers, and veterinarians better understand how equine performance and welfare fit together. With better data analysis, equine welfare could significantly improve."
   ]
  },
  {
   "cell_type": "markdown",
   "id": "c4350d96",
   "metadata": {
    "papermill": {
     "duration": 0.006968,
     "end_time": "2022-08-12T19:14:37.634817",
     "exception": false,
     "start_time": "2022-08-12T19:14:37.627849",
     "status": "completed"
    },
    "tags": []
   },
   "source": [
    "# Data Set Description"
   ]
  },
  {
   "cell_type": "markdown",
   "id": "b6dd1905",
   "metadata": {
    "papermill": {
     "duration": 0.006914,
     "end_time": "2022-08-12T19:14:37.648799",
     "exception": false,
     "start_time": "2022-08-12T19:14:37.641885",
     "status": "completed"
    },
    "tags": []
   },
   "source": [
    "`track_id` - 3 character id for the track the race took place at: **AQU** -Aqueduct, **BEL** - Belmont, **SAR** - Saratoga\n",
    "\n",
    "`race_date` - Date the race took place. YYYY-MM-DD\n",
    "\n",
    "`race_number` - Number of the race. Passed as 3 characters but can be cast or converted to int for this data set\n",
    "\n",
    "`program_number` - Program number of the horse in the race passed as 3 characters. Should remain 3 characters as it isn't limited to just numbers. Is essentially the unique identifier of the horse in the race\n",
    "\n",
    "`weight_carried` - An integer of the weight carried by the horse in the race\n",
    "\n",
    "`jockey` - Name of the jockey on the horse in the race. 50 character max\n",
    "\n",
    "`odds` - Odds to win the race passed as an integer. Divide by 100 to derive the odds to 1. Example - 1280 would be 12.8-1\n",
    "\n",
    "`distance_id` - Distance of the race in furlongs passed as an integer. Example - 600 would be 6 furlongs\n",
    "\n",
    "`course_type` - The course the race was run over passed as one character. **M** - Hurdle, **D** - Dirt, **O** - Outer turf, **I** - Inner turf, **T** - turf\n",
    "\n",
    "`track_condition` - The condition of the course the race was run on passed as three characters. **YL** - Yielding, **FM** - Firm, **SY** - Sloppy, **GD** - Good, **FT** - Fast, **MY** - Muddy, **SF** - Soft\n",
    "\n",
    "`run_up_distance` - Distance in feet of the gate to the start of the race passed as an integer\n",
    "\n",
    "`race_type` - The classification of the race passed as as five characters. **STK** - Stakes, **WCL** - Waiver Claiming, **WMC** - Waiver Maiden Claiming, **SST** - Starter Stakes, **SHP** - Starter Handicap, **CLM** - Claiming, **STR** - Starter Allowance, **AOC** - Allowance Optional Claimer, **SOC** - Starter Optional Claimer, **MCL** - Maiden Claiming, **ALW** - Allowance, **MSW** - Maiden Special Weight\n",
    "\n",
    "`purse` - Purse in US dollars of the race passed as an money with two decimal places\n",
    "\n",
    "`post_time` - Time of day the race began passed as 5 character. Example - 01220 would be 12:20\n",
    "\n",
    "`trakus_index` - The common collection of point of the lat / long of the horse in the race passed as an integer. From what we can tell, it's collected every 0.25 seconds\n",
    "\n",
    "`latitude` - The latitude of the horse in the race passed as a float\n",
    "\n",
    "`longitude` - The longitude of the horse in the race passed as a float"
   ]
  },
  {
   "cell_type": "code",
   "execution_count": 1,
   "id": "f9131d9f",
   "metadata": {
    "_cell_guid": "b1076dfc-b9ad-4769-8c92-a6c4dae69d19",
    "_uuid": "8f2839f25d086af736a60e9eeb907d3b93b6e0e5",
    "execution": {
     "iopub.execute_input": "2022-08-12T19:14:37.666403Z",
     "iopub.status.busy": "2022-08-12T19:14:37.665455Z",
     "iopub.status.idle": "2022-08-12T19:14:37.680526Z",
     "shell.execute_reply": "2022-08-12T19:14:37.679294Z"
    },
    "papermill": {
     "duration": 0.027254,
     "end_time": "2022-08-12T19:14:37.683527",
     "exception": false,
     "start_time": "2022-08-12T19:14:37.656273",
     "status": "completed"
    },
    "tags": []
   },
   "outputs": [],
   "source": [
    "import numpy as np \n",
    "import pandas as pd \n",
    "\n",
    "import warnings, gc\n",
    "warnings.filterwarnings(\"ignore\")"
   ]
  },
  {
   "cell_type": "code",
   "execution_count": 2,
   "id": "c31a9363",
   "metadata": {
    "execution": {
     "iopub.execute_input": "2022-08-12T19:14:37.701228Z",
     "iopub.status.busy": "2022-08-12T19:14:37.700478Z",
     "iopub.status.idle": "2022-08-12T19:14:58.989627Z",
     "shell.execute_reply": "2022-08-12T19:14:58.988236Z"
    },
    "papermill": {
     "duration": 21.301617,
     "end_time": "2022-08-12T19:14:58.992592",
     "exception": false,
     "start_time": "2022-08-12T19:14:37.690975",
     "status": "completed"
    },
    "tags": []
   },
   "outputs": [],
   "source": [
    "nyra_tracking = pd.read_csv(\"/kaggle/input/big-data-derby-2022/nyra_tracking_table.csv\")\n",
    "nyra_start = pd.read_csv(\"/kaggle/input/big-data-derby-2022/nyra_start_table.csv\")\n",
    "nyra_race = pd.read_csv(\"/kaggle/input/big-data-derby-2022/nyra_race_table.csv\")\n",
    "nyra_2019 = pd.read_csv(\"/kaggle/input/big-data-derby-2022/nyra_2019_complete.csv\")"
   ]
  },
  {
   "cell_type": "code",
   "execution_count": 3,
   "id": "86747b56",
   "metadata": {
    "execution": {
     "iopub.execute_input": "2022-08-12T19:14:59.008245Z",
     "iopub.status.busy": "2022-08-12T19:14:59.007849Z",
     "iopub.status.idle": "2022-08-12T19:14:59.032019Z",
     "shell.execute_reply": "2022-08-12T19:14:59.030972Z"
    },
    "papermill": {
     "duration": 0.036797,
     "end_time": "2022-08-12T19:14:59.036264",
     "exception": false,
     "start_time": "2022-08-12T19:14:58.999467",
     "status": "completed"
    },
    "tags": []
   },
   "outputs": [
    {
     "data": {
      "text/html": [
       "<div>\n",
       "<style scoped>\n",
       "    .dataframe tbody tr th:only-of-type {\n",
       "        vertical-align: middle;\n",
       "    }\n",
       "\n",
       "    .dataframe tbody tr th {\n",
       "        vertical-align: top;\n",
       "    }\n",
       "\n",
       "    .dataframe thead th {\n",
       "        text-align: right;\n",
       "    }\n",
       "</style>\n",
       "<table border=\"1\" class=\"dataframe\">\n",
       "  <thead>\n",
       "    <tr style=\"text-align: right;\">\n",
       "      <th></th>\n",
       "      <th>track_id</th>\n",
       "      <th>race_date</th>\n",
       "      <th>race_number</th>\n",
       "      <th>program_number</th>\n",
       "      <th>trakus_index</th>\n",
       "      <th>latitude</th>\n",
       "      <th>longitude</th>\n",
       "    </tr>\n",
       "  </thead>\n",
       "  <tbody>\n",
       "    <tr>\n",
       "      <th>0</th>\n",
       "      <td>AQU</td>\n",
       "      <td>2019-01-01</td>\n",
       "      <td>9</td>\n",
       "      <td>6</td>\n",
       "      <td>72</td>\n",
       "      <td>40.672902</td>\n",
       "      <td>-73.827607</td>\n",
       "    </tr>\n",
       "    <tr>\n",
       "      <th>1</th>\n",
       "      <td>AQU</td>\n",
       "      <td>2019-01-01</td>\n",
       "      <td>9</td>\n",
       "      <td>6</td>\n",
       "      <td>73</td>\n",
       "      <td>40.672946</td>\n",
       "      <td>-73.827587</td>\n",
       "    </tr>\n",
       "    <tr>\n",
       "      <th>2</th>\n",
       "      <td>AQU</td>\n",
       "      <td>2019-01-01</td>\n",
       "      <td>9</td>\n",
       "      <td>6</td>\n",
       "      <td>74</td>\n",
       "      <td>40.672990</td>\n",
       "      <td>-73.827568</td>\n",
       "    </tr>\n",
       "    <tr>\n",
       "      <th>3</th>\n",
       "      <td>AQU</td>\n",
       "      <td>2019-01-01</td>\n",
       "      <td>9</td>\n",
       "      <td>6</td>\n",
       "      <td>63</td>\n",
       "      <td>40.672510</td>\n",
       "      <td>-73.827781</td>\n",
       "    </tr>\n",
       "    <tr>\n",
       "      <th>4</th>\n",
       "      <td>AQU</td>\n",
       "      <td>2019-01-01</td>\n",
       "      <td>9</td>\n",
       "      <td>6</td>\n",
       "      <td>64</td>\n",
       "      <td>40.672553</td>\n",
       "      <td>-73.827762</td>\n",
       "    </tr>\n",
       "  </tbody>\n",
       "</table>\n",
       "</div>"
      ],
      "text/plain": [
       "  track_id   race_date  race_number program_number  trakus_index   latitude  \\\n",
       "0      AQU  2019-01-01            9            6              72  40.672902   \n",
       "1      AQU  2019-01-01            9            6              73  40.672946   \n",
       "2      AQU  2019-01-01            9            6              74  40.672990   \n",
       "3      AQU  2019-01-01            9            6              63  40.672510   \n",
       "4      AQU  2019-01-01            9            6              64  40.672553   \n",
       "\n",
       "   longitude  \n",
       "0 -73.827607  \n",
       "1 -73.827587  \n",
       "2 -73.827568  \n",
       "3 -73.827781  \n",
       "4 -73.827762  "
      ]
     },
     "execution_count": 3,
     "metadata": {},
     "output_type": "execute_result"
    }
   ],
   "source": [
    "nyra_tracking.head()"
   ]
  },
  {
   "cell_type": "code",
   "execution_count": 4,
   "id": "8192cb03",
   "metadata": {
    "execution": {
     "iopub.execute_input": "2022-08-12T19:14:59.052377Z",
     "iopub.status.busy": "2022-08-12T19:14:59.051604Z",
     "iopub.status.idle": "2022-08-12T19:14:59.719151Z",
     "shell.execute_reply": "2022-08-12T19:14:59.717859Z"
    },
    "papermill": {
     "duration": 0.678362,
     "end_time": "2022-08-12T19:14:59.721666",
     "exception": false,
     "start_time": "2022-08-12T19:14:59.043304",
     "status": "completed"
    },
    "tags": []
   },
   "outputs": [
    {
     "data": {
      "text/html": [
       "<div>\n",
       "<style scoped>\n",
       "    .dataframe tbody tr th:only-of-type {\n",
       "        vertical-align: middle;\n",
       "    }\n",
       "\n",
       "    .dataframe tbody tr th {\n",
       "        vertical-align: top;\n",
       "    }\n",
       "\n",
       "    .dataframe thead th {\n",
       "        text-align: right;\n",
       "    }\n",
       "</style>\n",
       "<table border=\"1\" class=\"dataframe\">\n",
       "  <thead>\n",
       "    <tr style=\"text-align: right;\">\n",
       "      <th></th>\n",
       "      <th>race_number</th>\n",
       "      <th>trakus_index</th>\n",
       "      <th>latitude</th>\n",
       "      <th>longitude</th>\n",
       "    </tr>\n",
       "  </thead>\n",
       "  <tbody>\n",
       "    <tr>\n",
       "      <th>count</th>\n",
       "      <td>5.228430e+06</td>\n",
       "      <td>5.228430e+06</td>\n",
       "      <td>5.228430e+06</td>\n",
       "      <td>5.228430e+06</td>\n",
       "    </tr>\n",
       "    <tr>\n",
       "      <th>mean</th>\n",
       "      <td>5.505409e+00</td>\n",
       "      <td>1.838652e+02</td>\n",
       "      <td>4.120387e+01</td>\n",
       "      <td>-7.377702e+01</td>\n",
       "    </tr>\n",
       "    <tr>\n",
       "      <th>std</th>\n",
       "      <td>2.860656e+00</td>\n",
       "      <td>1.183327e+02</td>\n",
       "      <td>9.771227e-01</td>\n",
       "      <td>4.711054e-02</td>\n",
       "    </tr>\n",
       "    <tr>\n",
       "      <th>min</th>\n",
       "      <td>1.000000e+00</td>\n",
       "      <td>1.000000e+00</td>\n",
       "      <td>4.066671e+01</td>\n",
       "      <td>-7.383260e+01</td>\n",
       "    </tr>\n",
       "    <tr>\n",
       "      <th>25%</th>\n",
       "      <td>3.000000e+00</td>\n",
       "      <td>8.800000e+01</td>\n",
       "      <td>4.067346e+01</td>\n",
       "      <td>-7.382883e+01</td>\n",
       "    </tr>\n",
       "    <tr>\n",
       "      <th>50%</th>\n",
       "      <td>6.000000e+00</td>\n",
       "      <td>1.760000e+02</td>\n",
       "      <td>4.071393e+01</td>\n",
       "      <td>-7.376915e+01</td>\n",
       "    </tr>\n",
       "    <tr>\n",
       "      <th>75%</th>\n",
       "      <td>8.000000e+00</td>\n",
       "      <td>2.640000e+02</td>\n",
       "      <td>4.071739e+01</td>\n",
       "      <td>-7.372564e+01</td>\n",
       "    </tr>\n",
       "    <tr>\n",
       "      <th>max</th>\n",
       "      <td>1.300000e+01</td>\n",
       "      <td>1.062000e+03</td>\n",
       "      <td>4.307399e+01</td>\n",
       "      <td>-7.371483e+01</td>\n",
       "    </tr>\n",
       "  </tbody>\n",
       "</table>\n",
       "</div>"
      ],
      "text/plain": [
       "        race_number  trakus_index      latitude     longitude\n",
       "count  5.228430e+06  5.228430e+06  5.228430e+06  5.228430e+06\n",
       "mean   5.505409e+00  1.838652e+02  4.120387e+01 -7.377702e+01\n",
       "std    2.860656e+00  1.183327e+02  9.771227e-01  4.711054e-02\n",
       "min    1.000000e+00  1.000000e+00  4.066671e+01 -7.383260e+01\n",
       "25%    3.000000e+00  8.800000e+01  4.067346e+01 -7.382883e+01\n",
       "50%    6.000000e+00  1.760000e+02  4.071393e+01 -7.376915e+01\n",
       "75%    8.000000e+00  2.640000e+02  4.071739e+01 -7.372564e+01\n",
       "max    1.300000e+01  1.062000e+03  4.307399e+01 -7.371483e+01"
      ]
     },
     "execution_count": 4,
     "metadata": {},
     "output_type": "execute_result"
    }
   ],
   "source": [
    "nyra_tracking.describe()"
   ]
  },
  {
   "cell_type": "code",
   "execution_count": 5,
   "id": "9c34e029",
   "metadata": {
    "execution": {
     "iopub.execute_input": "2022-08-12T19:14:59.738066Z",
     "iopub.status.busy": "2022-08-12T19:14:59.737606Z",
     "iopub.status.idle": "2022-08-12T19:14:59.754191Z",
     "shell.execute_reply": "2022-08-12T19:14:59.752816Z"
    },
    "papermill": {
     "duration": 0.028173,
     "end_time": "2022-08-12T19:14:59.757166",
     "exception": false,
     "start_time": "2022-08-12T19:14:59.728993",
     "status": "completed"
    },
    "tags": []
   },
   "outputs": [
    {
     "name": "stdout",
     "output_type": "stream",
     "text": [
      "<class 'pandas.core.frame.DataFrame'>\n",
      "RangeIndex: 5228430 entries, 0 to 5228429\n",
      "Data columns (total 7 columns):\n",
      " #   Column          Dtype  \n",
      "---  ------          -----  \n",
      " 0   track_id        object \n",
      " 1   race_date       object \n",
      " 2   race_number     int64  \n",
      " 3   program_number  object \n",
      " 4   trakus_index    int64  \n",
      " 5   latitude        float64\n",
      " 6   longitude       float64\n",
      "dtypes: float64(2), int64(2), object(3)\n",
      "memory usage: 279.2+ MB\n"
     ]
    }
   ],
   "source": [
    "nyra_tracking.info()"
   ]
  },
  {
   "cell_type": "code",
   "execution_count": 6,
   "id": "08e11d30",
   "metadata": {
    "execution": {
     "iopub.execute_input": "2022-08-12T19:14:59.775118Z",
     "iopub.status.busy": "2022-08-12T19:14:59.774196Z",
     "iopub.status.idle": "2022-08-12T19:15:00.094082Z",
     "shell.execute_reply": "2022-08-12T19:15:00.092599Z"
    },
    "papermill": {
     "duration": 0.331295,
     "end_time": "2022-08-12T19:15:00.096870",
     "exception": false,
     "start_time": "2022-08-12T19:14:59.765575",
     "status": "completed"
    },
    "tags": []
   },
   "outputs": [
    {
     "data": {
      "text/plain": [
       "AQU    2158369\n",
       "BEL    1947134\n",
       "SAR    1122927\n",
       "Name: track_id, dtype: int64"
      ]
     },
     "execution_count": 6,
     "metadata": {},
     "output_type": "execute_result"
    }
   ],
   "source": [
    "nyra_tracking.track_id.value_counts()"
   ]
  },
  {
   "cell_type": "code",
   "execution_count": 7,
   "id": "d90c6671",
   "metadata": {
    "execution": {
     "iopub.execute_input": "2022-08-12T19:15:00.114179Z",
     "iopub.status.busy": "2022-08-12T19:15:00.112993Z",
     "iopub.status.idle": "2022-08-12T19:15:00.166035Z",
     "shell.execute_reply": "2022-08-12T19:15:00.164931Z"
    },
    "papermill": {
     "duration": 0.064529,
     "end_time": "2022-08-12T19:15:00.168952",
     "exception": false,
     "start_time": "2022-08-12T19:15:00.104423",
     "status": "completed"
    },
    "tags": []
   },
   "outputs": [
    {
     "data": {
      "text/plain": [
       "8     582413\n",
       "6     575217\n",
       "5     559884\n",
       "7     554623\n",
       "4     523846\n",
       "2     515115\n",
       "1     508808\n",
       "9     492915\n",
       "3     490256\n",
       "10    283141\n",
       "11     98804\n",
       "12     31725\n",
       "13     11683\n",
       "Name: race_number, dtype: int64"
      ]
     },
     "execution_count": 7,
     "metadata": {},
     "output_type": "execute_result"
    }
   ],
   "source": [
    "nyra_tracking.race_number.value_counts()"
   ]
  },
  {
   "cell_type": "code",
   "execution_count": 8,
   "id": "86a5c3e7",
   "metadata": {
    "execution": {
     "iopub.execute_input": "2022-08-12T19:15:00.186967Z",
     "iopub.status.busy": "2022-08-12T19:15:00.186105Z",
     "iopub.status.idle": "2022-08-12T19:15:00.509669Z",
     "shell.execute_reply": "2022-08-12T19:15:00.508302Z"
    },
    "papermill": {
     "duration": 0.335578,
     "end_time": "2022-08-12T19:15:00.512619",
     "exception": false,
     "start_time": "2022-08-12T19:15:00.177041",
     "status": "completed"
    },
    "tags": []
   },
   "outputs": [
    {
     "data": {
      "text/plain": [
       "4      611396\n",
       "3      611025\n",
       "5      606666\n",
       "2      602597\n",
       "1      599979\n",
       "6      579893\n",
       "7      486905\n",
       "8      373202\n",
       "9      266526\n",
       "10     186835\n",
       "11     117532\n",
       "12      71363\n",
       "1A      56753\n",
       "13      26507\n",
       "14      15081\n",
       "15       7917\n",
       "2B       4081\n",
       "16       3591\n",
       "3X        334\n",
       "1X        247\n",
       "Name: program_number, dtype: int64"
      ]
     },
     "execution_count": 8,
     "metadata": {},
     "output_type": "execute_result"
    }
   ],
   "source": [
    "nyra_tracking.program_number.value_counts()"
   ]
  },
  {
   "cell_type": "code",
   "execution_count": 9,
   "id": "e23b0b6f",
   "metadata": {
    "execution": {
     "iopub.execute_input": "2022-08-12T19:15:00.529958Z",
     "iopub.status.busy": "2022-08-12T19:15:00.529511Z",
     "iopub.status.idle": "2022-08-12T19:15:00.546121Z",
     "shell.execute_reply": "2022-08-12T19:15:00.544937Z"
    },
    "papermill": {
     "duration": 0.028234,
     "end_time": "2022-08-12T19:15:00.548665",
     "exception": false,
     "start_time": "2022-08-12T19:15:00.520431",
     "status": "completed"
    },
    "tags": []
   },
   "outputs": [
    {
     "data": {
      "text/html": [
       "<div>\n",
       "<style scoped>\n",
       "    .dataframe tbody tr th:only-of-type {\n",
       "        vertical-align: middle;\n",
       "    }\n",
       "\n",
       "    .dataframe tbody tr th {\n",
       "        vertical-align: top;\n",
       "    }\n",
       "\n",
       "    .dataframe thead th {\n",
       "        text-align: right;\n",
       "    }\n",
       "</style>\n",
       "<table border=\"1\" class=\"dataframe\">\n",
       "  <thead>\n",
       "    <tr style=\"text-align: right;\">\n",
       "      <th></th>\n",
       "      <th>track_id</th>\n",
       "      <th>race_date</th>\n",
       "      <th>race_number</th>\n",
       "      <th>program_number</th>\n",
       "      <th>weight_carried</th>\n",
       "      <th>jockey</th>\n",
       "      <th>odds</th>\n",
       "    </tr>\n",
       "  </thead>\n",
       "  <tbody>\n",
       "    <tr>\n",
       "      <th>0</th>\n",
       "      <td>AQU</td>\n",
       "      <td>2019-01-01</td>\n",
       "      <td>1</td>\n",
       "      <td>1</td>\n",
       "      <td>123</td>\n",
       "      <td>Dylan Davis</td>\n",
       "      <td>130</td>\n",
       "    </tr>\n",
       "    <tr>\n",
       "      <th>1</th>\n",
       "      <td>AQU</td>\n",
       "      <td>2019-01-01</td>\n",
       "      <td>1</td>\n",
       "      <td>2</td>\n",
       "      <td>120</td>\n",
       "      <td>Junior Alvarado</td>\n",
       "      <td>295</td>\n",
       "    </tr>\n",
       "    <tr>\n",
       "      <th>2</th>\n",
       "      <td>AQU</td>\n",
       "      <td>2019-01-01</td>\n",
       "      <td>1</td>\n",
       "      <td>3</td>\n",
       "      <td>118</td>\n",
       "      <td>Jose Lezcano</td>\n",
       "      <td>180</td>\n",
       "    </tr>\n",
       "    <tr>\n",
       "      <th>3</th>\n",
       "      <td>AQU</td>\n",
       "      <td>2019-01-01</td>\n",
       "      <td>1</td>\n",
       "      <td>4</td>\n",
       "      <td>123</td>\n",
       "      <td>Jomar Garcia</td>\n",
       "      <td>1280</td>\n",
       "    </tr>\n",
       "    <tr>\n",
       "      <th>4</th>\n",
       "      <td>AQU</td>\n",
       "      <td>2019-01-01</td>\n",
       "      <td>1</td>\n",
       "      <td>5</td>\n",
       "      <td>118</td>\n",
       "      <td>Manuel Franco</td>\n",
       "      <td>1150</td>\n",
       "    </tr>\n",
       "  </tbody>\n",
       "</table>\n",
       "</div>"
      ],
      "text/plain": [
       "  track_id   race_date  race_number program_number  weight_carried  \\\n",
       "0      AQU  2019-01-01            1            1               123   \n",
       "1      AQU  2019-01-01            1            2               120   \n",
       "2      AQU  2019-01-01            1            3               118   \n",
       "3      AQU  2019-01-01            1            4               123   \n",
       "4      AQU  2019-01-01            1            5               118   \n",
       "\n",
       "            jockey  odds  \n",
       "0      Dylan Davis   130  \n",
       "1  Junior Alvarado   295  \n",
       "2     Jose Lezcano   180  \n",
       "3     Jomar Garcia  1280  \n",
       "4    Manuel Franco  1150  "
      ]
     },
     "execution_count": 9,
     "metadata": {},
     "output_type": "execute_result"
    }
   ],
   "source": [
    "nyra_start.head()"
   ]
  },
  {
   "cell_type": "code",
   "execution_count": 10,
   "id": "c59a704c",
   "metadata": {
    "execution": {
     "iopub.execute_input": "2022-08-12T19:15:00.566330Z",
     "iopub.status.busy": "2022-08-12T19:15:00.565932Z",
     "iopub.status.idle": "2022-08-12T19:15:00.588360Z",
     "shell.execute_reply": "2022-08-12T19:15:00.587065Z"
    },
    "papermill": {
     "duration": 0.034248,
     "end_time": "2022-08-12T19:15:00.590914",
     "exception": false,
     "start_time": "2022-08-12T19:15:00.556666",
     "status": "completed"
    },
    "tags": []
   },
   "outputs": [
    {
     "data": {
      "text/html": [
       "<div>\n",
       "<style scoped>\n",
       "    .dataframe tbody tr th:only-of-type {\n",
       "        vertical-align: middle;\n",
       "    }\n",
       "\n",
       "    .dataframe tbody tr th {\n",
       "        vertical-align: top;\n",
       "    }\n",
       "\n",
       "    .dataframe thead th {\n",
       "        text-align: right;\n",
       "    }\n",
       "</style>\n",
       "<table border=\"1\" class=\"dataframe\">\n",
       "  <thead>\n",
       "    <tr style=\"text-align: right;\">\n",
       "      <th></th>\n",
       "      <th>race_number</th>\n",
       "      <th>weight_carried</th>\n",
       "      <th>odds</th>\n",
       "    </tr>\n",
       "  </thead>\n",
       "  <tbody>\n",
       "    <tr>\n",
       "      <th>count</th>\n",
       "      <td>14915.000000</td>\n",
       "      <td>14915.000000</td>\n",
       "      <td>14915.000000</td>\n",
       "    </tr>\n",
       "    <tr>\n",
       "      <th>mean</th>\n",
       "      <td>5.494200</td>\n",
       "      <td>120.454040</td>\n",
       "      <td>1483.496480</td>\n",
       "    </tr>\n",
       "    <tr>\n",
       "      <th>std</th>\n",
       "      <td>2.826058</td>\n",
       "      <td>3.522007</td>\n",
       "      <td>1956.137156</td>\n",
       "    </tr>\n",
       "    <tr>\n",
       "      <th>min</th>\n",
       "      <td>1.000000</td>\n",
       "      <td>110.000000</td>\n",
       "      <td>0.000000</td>\n",
       "    </tr>\n",
       "    <tr>\n",
       "      <th>25%</th>\n",
       "      <td>3.000000</td>\n",
       "      <td>118.000000</td>\n",
       "      <td>335.000000</td>\n",
       "    </tr>\n",
       "    <tr>\n",
       "      <th>50%</th>\n",
       "      <td>6.000000</td>\n",
       "      <td>120.000000</td>\n",
       "      <td>730.000000</td>\n",
       "    </tr>\n",
       "    <tr>\n",
       "      <th>75%</th>\n",
       "      <td>8.000000</td>\n",
       "      <td>122.000000</td>\n",
       "      <td>1740.000000</td>\n",
       "    </tr>\n",
       "    <tr>\n",
       "      <th>max</th>\n",
       "      <td>13.000000</td>\n",
       "      <td>160.000000</td>\n",
       "      <td>19100.000000</td>\n",
       "    </tr>\n",
       "  </tbody>\n",
       "</table>\n",
       "</div>"
      ],
      "text/plain": [
       "        race_number  weight_carried          odds\n",
       "count  14915.000000    14915.000000  14915.000000\n",
       "mean       5.494200      120.454040   1483.496480\n",
       "std        2.826058        3.522007   1956.137156\n",
       "min        1.000000      110.000000      0.000000\n",
       "25%        3.000000      118.000000    335.000000\n",
       "50%        6.000000      120.000000    730.000000\n",
       "75%        8.000000      122.000000   1740.000000\n",
       "max       13.000000      160.000000  19100.000000"
      ]
     },
     "execution_count": 10,
     "metadata": {},
     "output_type": "execute_result"
    }
   ],
   "source": [
    "nyra_start.describe()"
   ]
  },
  {
   "cell_type": "code",
   "execution_count": 11,
   "id": "99c37704",
   "metadata": {
    "execution": {
     "iopub.execute_input": "2022-08-12T19:15:00.608712Z",
     "iopub.status.busy": "2022-08-12T19:15:00.608276Z",
     "iopub.status.idle": "2022-08-12T19:15:00.625431Z",
     "shell.execute_reply": "2022-08-12T19:15:00.623631Z"
    },
    "papermill": {
     "duration": 0.029395,
     "end_time": "2022-08-12T19:15:00.628267",
     "exception": false,
     "start_time": "2022-08-12T19:15:00.598872",
     "status": "completed"
    },
    "tags": []
   },
   "outputs": [
    {
     "name": "stdout",
     "output_type": "stream",
     "text": [
      "<class 'pandas.core.frame.DataFrame'>\n",
      "RangeIndex: 14915 entries, 0 to 14914\n",
      "Data columns (total 7 columns):\n",
      " #   Column          Non-Null Count  Dtype \n",
      "---  ------          --------------  ----- \n",
      " 0   track_id        14915 non-null  object\n",
      " 1   race_date       14915 non-null  object\n",
      " 2   race_number     14915 non-null  int64 \n",
      " 3   program_number  14915 non-null  object\n",
      " 4   weight_carried  14915 non-null  int64 \n",
      " 5   jockey          14915 non-null  object\n",
      " 6   odds            14915 non-null  int64 \n",
      "dtypes: int64(3), object(4)\n",
      "memory usage: 815.8+ KB\n"
     ]
    }
   ],
   "source": [
    "nyra_start.info()"
   ]
  },
  {
   "cell_type": "code",
   "execution_count": 12,
   "id": "dd7566cf",
   "metadata": {
    "execution": {
     "iopub.execute_input": "2022-08-12T19:15:00.646211Z",
     "iopub.status.busy": "2022-08-12T19:15:00.645811Z",
     "iopub.status.idle": "2022-08-12T19:15:00.655640Z",
     "shell.execute_reply": "2022-08-12T19:15:00.654376Z"
    },
    "papermill": {
     "duration": 0.021567,
     "end_time": "2022-08-12T19:15:00.657930",
     "exception": false,
     "start_time": "2022-08-12T19:15:00.636363",
     "status": "completed"
    },
    "tags": []
   },
   "outputs": [
    {
     "data": {
      "text/plain": [
       "AQU    6191\n",
       "BEL    5539\n",
       "SAR    3185\n",
       "Name: track_id, dtype: int64"
      ]
     },
     "execution_count": 12,
     "metadata": {},
     "output_type": "execute_result"
    }
   ],
   "source": [
    "nyra_start.track_id.value_counts()"
   ]
  },
  {
   "cell_type": "code",
   "execution_count": 13,
   "id": "01902ce3",
   "metadata": {
    "execution": {
     "iopub.execute_input": "2022-08-12T19:15:00.676173Z",
     "iopub.status.busy": "2022-08-12T19:15:00.675779Z",
     "iopub.status.idle": "2022-08-12T19:15:00.684677Z",
     "shell.execute_reply": "2022-08-12T19:15:00.683489Z"
    },
    "papermill": {
     "duration": 0.02106,
     "end_time": "2022-08-12T19:15:00.687088",
     "exception": false,
     "start_time": "2022-08-12T19:15:00.666028",
     "status": "completed"
    },
    "tags": []
   },
   "outputs": [
    {
     "data": {
      "text/plain": [
       "6     1689\n",
       "8     1648\n",
       "5     1630\n",
       "7     1586\n",
       "4     1538\n",
       "2     1493\n",
       "3     1421\n",
       "9     1382\n",
       "1     1364\n",
       "10     772\n",
       "11     276\n",
       "12      91\n",
       "13      25\n",
       "Name: race_number, dtype: int64"
      ]
     },
     "execution_count": 13,
     "metadata": {},
     "output_type": "execute_result"
    }
   ],
   "source": [
    "nyra_start.race_number.value_counts()"
   ]
  },
  {
   "cell_type": "code",
   "execution_count": 14,
   "id": "7cc4ce5f",
   "metadata": {
    "execution": {
     "iopub.execute_input": "2022-08-12T19:15:00.705813Z",
     "iopub.status.busy": "2022-08-12T19:15:00.705395Z",
     "iopub.status.idle": "2022-08-12T19:15:00.715812Z",
     "shell.execute_reply": "2022-08-12T19:15:00.714403Z"
    },
    "papermill": {
     "duration": 0.02232,
     "end_time": "2022-08-12T19:15:00.717919",
     "exception": false,
     "start_time": "2022-08-12T19:15:00.695599",
     "status": "completed"
    },
    "tags": []
   },
   "outputs": [
    {
     "data": {
      "text/plain": [
       "4      1748\n",
       "3      1743\n",
       "5      1731\n",
       "2      1715\n",
       "1      1708\n",
       "6      1652\n",
       "7      1390\n",
       "8      1066\n",
       "9       761\n",
       "10      535\n",
       "11      333\n",
       "12      201\n",
       "1A      164\n",
       "13       77\n",
       "14       44\n",
       "15       24\n",
       "2B       11\n",
       "16       10\n",
       "3X        1\n",
       "1X        1\n",
       "Name: program_number, dtype: int64"
      ]
     },
     "execution_count": 14,
     "metadata": {},
     "output_type": "execute_result"
    }
   ],
   "source": [
    "nyra_start.program_number.value_counts()"
   ]
  },
  {
   "cell_type": "code",
   "execution_count": 15,
   "id": "ce47b7d2",
   "metadata": {
    "execution": {
     "iopub.execute_input": "2022-08-12T19:15:00.737057Z",
     "iopub.status.busy": "2022-08-12T19:15:00.736620Z",
     "iopub.status.idle": "2022-08-12T19:15:00.752286Z",
     "shell.execute_reply": "2022-08-12T19:15:00.751132Z"
    },
    "papermill": {
     "duration": 0.02803,
     "end_time": "2022-08-12T19:15:00.754478",
     "exception": false,
     "start_time": "2022-08-12T19:15:00.726448",
     "status": "completed"
    },
    "tags": []
   },
   "outputs": [
    {
     "data": {
      "text/html": [
       "<div>\n",
       "<style scoped>\n",
       "    .dataframe tbody tr th:only-of-type {\n",
       "        vertical-align: middle;\n",
       "    }\n",
       "\n",
       "    .dataframe tbody tr th {\n",
       "        vertical-align: top;\n",
       "    }\n",
       "\n",
       "    .dataframe thead th {\n",
       "        text-align: right;\n",
       "    }\n",
       "</style>\n",
       "<table border=\"1\" class=\"dataframe\">\n",
       "  <thead>\n",
       "    <tr style=\"text-align: right;\">\n",
       "      <th></th>\n",
       "      <th>track_id</th>\n",
       "      <th>race_date</th>\n",
       "      <th>race_number</th>\n",
       "      <th>distance_id</th>\n",
       "      <th>course_type</th>\n",
       "      <th>track_condition</th>\n",
       "      <th>run_up_distance</th>\n",
       "      <th>race_type</th>\n",
       "      <th>purse</th>\n",
       "      <th>post_time</th>\n",
       "    </tr>\n",
       "  </thead>\n",
       "  <tbody>\n",
       "    <tr>\n",
       "      <th>0</th>\n",
       "      <td>AQU</td>\n",
       "      <td>2019-01-01</td>\n",
       "      <td>1</td>\n",
       "      <td>650</td>\n",
       "      <td>D</td>\n",
       "      <td>MY</td>\n",
       "      <td>36</td>\n",
       "      <td>AOC</td>\n",
       "      <td>80000</td>\n",
       "      <td>1220</td>\n",
       "    </tr>\n",
       "    <tr>\n",
       "      <th>1</th>\n",
       "      <td>AQU</td>\n",
       "      <td>2019-01-01</td>\n",
       "      <td>2</td>\n",
       "      <td>600</td>\n",
       "      <td>D</td>\n",
       "      <td>MY</td>\n",
       "      <td>48</td>\n",
       "      <td>MCL</td>\n",
       "      <td>41000</td>\n",
       "      <td>1250</td>\n",
       "    </tr>\n",
       "    <tr>\n",
       "      <th>2</th>\n",
       "      <td>AQU</td>\n",
       "      <td>2019-01-01</td>\n",
       "      <td>3</td>\n",
       "      <td>550</td>\n",
       "      <td>D</td>\n",
       "      <td>MY</td>\n",
       "      <td>54</td>\n",
       "      <td>MCL</td>\n",
       "      <td>35000</td>\n",
       "      <td>121</td>\n",
       "    </tr>\n",
       "    <tr>\n",
       "      <th>3</th>\n",
       "      <td>AQU</td>\n",
       "      <td>2019-01-01</td>\n",
       "      <td>4</td>\n",
       "      <td>900</td>\n",
       "      <td>D</td>\n",
       "      <td>MY</td>\n",
       "      <td>101</td>\n",
       "      <td>AOC</td>\n",
       "      <td>80000</td>\n",
       "      <td>150</td>\n",
       "    </tr>\n",
       "    <tr>\n",
       "      <th>4</th>\n",
       "      <td>AQU</td>\n",
       "      <td>2019-01-01</td>\n",
       "      <td>5</td>\n",
       "      <td>700</td>\n",
       "      <td>D</td>\n",
       "      <td>MY</td>\n",
       "      <td>60</td>\n",
       "      <td>ALW</td>\n",
       "      <td>64000</td>\n",
       "      <td>220</td>\n",
       "    </tr>\n",
       "  </tbody>\n",
       "</table>\n",
       "</div>"
      ],
      "text/plain": [
       "  track_id   race_date  race_number  distance_id course_type track_condition  \\\n",
       "0      AQU  2019-01-01            1          650           D             MY    \n",
       "1      AQU  2019-01-01            2          600           D             MY    \n",
       "2      AQU  2019-01-01            3          550           D             MY    \n",
       "3      AQU  2019-01-01            4          900           D             MY    \n",
       "4      AQU  2019-01-01            5          700           D             MY    \n",
       "\n",
       "   run_up_distance race_type  purse  post_time  \n",
       "0               36       AOC  80000       1220  \n",
       "1               48       MCL  41000       1250  \n",
       "2               54       MCL  35000        121  \n",
       "3              101       AOC  80000        150  \n",
       "4               60       ALW  64000        220  "
      ]
     },
     "execution_count": 15,
     "metadata": {},
     "output_type": "execute_result"
    }
   ],
   "source": [
    "nyra_race.head()"
   ]
  },
  {
   "cell_type": "code",
   "execution_count": 16,
   "id": "67ab44b9",
   "metadata": {
    "execution": {
     "iopub.execute_input": "2022-08-12T19:15:00.775061Z",
     "iopub.status.busy": "2022-08-12T19:15:00.774616Z",
     "iopub.status.idle": "2022-08-12T19:15:00.803540Z",
     "shell.execute_reply": "2022-08-12T19:15:00.802258Z"
    },
    "papermill": {
     "duration": 0.04237,
     "end_time": "2022-08-12T19:15:00.806063",
     "exception": false,
     "start_time": "2022-08-12T19:15:00.763693",
     "status": "completed"
    },
    "tags": []
   },
   "outputs": [
    {
     "data": {
      "text/html": [
       "<div>\n",
       "<style scoped>\n",
       "    .dataframe tbody tr th:only-of-type {\n",
       "        vertical-align: middle;\n",
       "    }\n",
       "\n",
       "    .dataframe tbody tr th {\n",
       "        vertical-align: top;\n",
       "    }\n",
       "\n",
       "    .dataframe thead th {\n",
       "        text-align: right;\n",
       "    }\n",
       "</style>\n",
       "<table border=\"1\" class=\"dataframe\">\n",
       "  <thead>\n",
       "    <tr style=\"text-align: right;\">\n",
       "      <th></th>\n",
       "      <th>race_number</th>\n",
       "      <th>distance_id</th>\n",
       "      <th>run_up_distance</th>\n",
       "      <th>purse</th>\n",
       "      <th>post_time</th>\n",
       "    </tr>\n",
       "  </thead>\n",
       "  <tbody>\n",
       "    <tr>\n",
       "      <th>count</th>\n",
       "      <td>2000.000000</td>\n",
       "      <td>2000.000000</td>\n",
       "      <td>2000.000000</td>\n",
       "      <td>2.000000e+03</td>\n",
       "      <td>2000.000000</td>\n",
       "    </tr>\n",
       "    <tr>\n",
       "      <th>mean</th>\n",
       "      <td>5.224500</td>\n",
       "      <td>725.850000</td>\n",
       "      <td>65.650000</td>\n",
       "      <td>8.252010e+04</td>\n",
       "      <td>406.936500</td>\n",
       "    </tr>\n",
       "    <tr>\n",
       "      <th>std</th>\n",
       "      <td>2.803931</td>\n",
       "      <td>148.189938</td>\n",
       "      <td>36.111446</td>\n",
       "      <td>1.061118e+05</td>\n",
       "      <td>280.338353</td>\n",
       "    </tr>\n",
       "    <tr>\n",
       "      <th>min</th>\n",
       "      <td>1.000000</td>\n",
       "      <td>450.000000</td>\n",
       "      <td>0.000000</td>\n",
       "      <td>1.600000e+04</td>\n",
       "      <td>100.000000</td>\n",
       "    </tr>\n",
       "    <tr>\n",
       "      <th>25%</th>\n",
       "      <td>3.000000</td>\n",
       "      <td>600.000000</td>\n",
       "      <td>45.000000</td>\n",
       "      <td>4.200000e+04</td>\n",
       "      <td>225.000000</td>\n",
       "    </tr>\n",
       "    <tr>\n",
       "      <th>50%</th>\n",
       "      <td>5.000000</td>\n",
       "      <td>700.000000</td>\n",
       "      <td>54.000000</td>\n",
       "      <td>6.200000e+04</td>\n",
       "      <td>340.000000</td>\n",
       "    </tr>\n",
       "    <tr>\n",
       "      <th>75%</th>\n",
       "      <td>7.250000</td>\n",
       "      <td>800.000000</td>\n",
       "      <td>76.000000</td>\n",
       "      <td>8.000000e+04</td>\n",
       "      <td>509.000000</td>\n",
       "    </tr>\n",
       "    <tr>\n",
       "      <th>max</th>\n",
       "      <td>13.000000</td>\n",
       "      <td>2000.000000</td>\n",
       "      <td>280.000000</td>\n",
       "      <td>1.500000e+06</td>\n",
       "      <td>1259.000000</td>\n",
       "    </tr>\n",
       "  </tbody>\n",
       "</table>\n",
       "</div>"
      ],
      "text/plain": [
       "       race_number  distance_id  run_up_distance         purse    post_time\n",
       "count  2000.000000  2000.000000      2000.000000  2.000000e+03  2000.000000\n",
       "mean      5.224500   725.850000        65.650000  8.252010e+04   406.936500\n",
       "std       2.803931   148.189938        36.111446  1.061118e+05   280.338353\n",
       "min       1.000000   450.000000         0.000000  1.600000e+04   100.000000\n",
       "25%       3.000000   600.000000        45.000000  4.200000e+04   225.000000\n",
       "50%       5.000000   700.000000        54.000000  6.200000e+04   340.000000\n",
       "75%       7.250000   800.000000        76.000000  8.000000e+04   509.000000\n",
       "max      13.000000  2000.000000       280.000000  1.500000e+06  1259.000000"
      ]
     },
     "execution_count": 16,
     "metadata": {},
     "output_type": "execute_result"
    }
   ],
   "source": [
    "nyra_race.describe()"
   ]
  },
  {
   "cell_type": "code",
   "execution_count": 17,
   "id": "5b46f7f4",
   "metadata": {
    "execution": {
     "iopub.execute_input": "2022-08-12T19:15:00.825704Z",
     "iopub.status.busy": "2022-08-12T19:15:00.825309Z",
     "iopub.status.idle": "2022-08-12T19:15:00.841626Z",
     "shell.execute_reply": "2022-08-12T19:15:00.840218Z"
    },
    "papermill": {
     "duration": 0.029404,
     "end_time": "2022-08-12T19:15:00.844494",
     "exception": false,
     "start_time": "2022-08-12T19:15:00.815090",
     "status": "completed"
    },
    "tags": []
   },
   "outputs": [
    {
     "name": "stdout",
     "output_type": "stream",
     "text": [
      "<class 'pandas.core.frame.DataFrame'>\n",
      "RangeIndex: 2000 entries, 0 to 1999\n",
      "Data columns (total 10 columns):\n",
      " #   Column           Non-Null Count  Dtype \n",
      "---  ------           --------------  ----- \n",
      " 0   track_id         2000 non-null   object\n",
      " 1   race_date        2000 non-null   object\n",
      " 2   race_number      2000 non-null   int64 \n",
      " 3   distance_id      2000 non-null   int64 \n",
      " 4   course_type      2000 non-null   object\n",
      " 5   track_condition  2000 non-null   object\n",
      " 6   run_up_distance  2000 non-null   int64 \n",
      " 7   race_type        2000 non-null   object\n",
      " 8   purse            2000 non-null   int64 \n",
      " 9   post_time        2000 non-null   int64 \n",
      "dtypes: int64(5), object(5)\n",
      "memory usage: 156.4+ KB\n"
     ]
    }
   ],
   "source": [
    "nyra_race.info()"
   ]
  },
  {
   "cell_type": "code",
   "execution_count": 18,
   "id": "876c3a09",
   "metadata": {
    "execution": {
     "iopub.execute_input": "2022-08-12T19:15:00.865545Z",
     "iopub.status.busy": "2022-08-12T19:15:00.865155Z",
     "iopub.status.idle": "2022-08-12T19:15:00.873281Z",
     "shell.execute_reply": "2022-08-12T19:15:00.872106Z"
    },
    "papermill": {
     "duration": 0.020821,
     "end_time": "2022-08-12T19:15:00.875462",
     "exception": false,
     "start_time": "2022-08-12T19:15:00.854641",
     "status": "completed"
    },
    "tags": []
   },
   "outputs": [
    {
     "data": {
      "text/plain": [
       "AQU    825\n",
       "BEL    772\n",
       "SAR    403\n",
       "Name: track_id, dtype: int64"
      ]
     },
     "execution_count": 18,
     "metadata": {},
     "output_type": "execute_result"
    }
   ],
   "source": [
    "nyra_race.track_id.value_counts()"
   ]
  },
  {
   "cell_type": "code",
   "execution_count": 19,
   "id": "be31e293",
   "metadata": {
    "execution": {
     "iopub.execute_input": "2022-08-12T19:15:00.897213Z",
     "iopub.status.busy": "2022-08-12T19:15:00.895078Z",
     "iopub.status.idle": "2022-08-12T19:15:00.905350Z",
     "shell.execute_reply": "2022-08-12T19:15:00.904315Z"
    },
    "papermill": {
     "duration": 0.023118,
     "end_time": "2022-08-12T19:15:00.907717",
     "exception": false,
     "start_time": "2022-08-12T19:15:00.884599",
     "status": "completed"
    },
    "tags": []
   },
   "outputs": [
    {
     "data": {
      "text/plain": [
       "2     216\n",
       "3     216\n",
       "4     216\n",
       "1     215\n",
       "5     213\n",
       "6     212\n",
       "7     212\n",
       "8     212\n",
       "9     163\n",
       "10     84\n",
       "11     29\n",
       "12      9\n",
       "13      3\n",
       "Name: race_number, dtype: int64"
      ]
     },
     "execution_count": 19,
     "metadata": {},
     "output_type": "execute_result"
    }
   ],
   "source": [
    "nyra_race.race_number.value_counts()"
   ]
  },
  {
   "cell_type": "code",
   "execution_count": 20,
   "id": "6fc826d9",
   "metadata": {
    "execution": {
     "iopub.execute_input": "2022-08-12T19:15:00.928520Z",
     "iopub.status.busy": "2022-08-12T19:15:00.927560Z",
     "iopub.status.idle": "2022-08-12T19:15:00.937504Z",
     "shell.execute_reply": "2022-08-12T19:15:00.936257Z"
    },
    "papermill": {
     "duration": 0.023065,
     "end_time": "2022-08-12T19:15:00.940119",
     "exception": false,
     "start_time": "2022-08-12T19:15:00.917054",
     "status": "completed"
    },
    "tags": []
   },
   "outputs": [
    {
     "data": {
      "text/plain": [
       "D    1351\n",
       "T     324\n",
       "I     249\n",
       "O      67\n",
       "M       9\n",
       "Name: course_type, dtype: int64"
      ]
     },
     "execution_count": 20,
     "metadata": {},
     "output_type": "execute_result"
    }
   ],
   "source": [
    "nyra_race.course_type.value_counts()"
   ]
  },
  {
   "cell_type": "code",
   "execution_count": 21,
   "id": "800d0653",
   "metadata": {
    "execution": {
     "iopub.execute_input": "2022-08-12T19:15:00.961859Z",
     "iopub.status.busy": "2022-08-12T19:15:00.960600Z",
     "iopub.status.idle": "2022-08-12T19:15:00.969237Z",
     "shell.execute_reply": "2022-08-12T19:15:00.968023Z"
    },
    "papermill": {
     "duration": 0.022121,
     "end_time": "2022-08-12T19:15:00.971664",
     "exception": false,
     "start_time": "2022-08-12T19:15:00.949543",
     "status": "completed"
    },
    "tags": []
   },
   "outputs": [
    {
     "data": {
      "text/plain": [
       "FT     978\n",
       "FM     455\n",
       "GD     253\n",
       "SY     207\n",
       "MY      74\n",
       "YL      30\n",
       "SF       3\n",
       "Name: track_condition, dtype: int64"
      ]
     },
     "execution_count": 21,
     "metadata": {},
     "output_type": "execute_result"
    }
   ],
   "source": [
    "nyra_race.track_condition.value_counts()"
   ]
  },
  {
   "cell_type": "code",
   "execution_count": 22,
   "id": "3e29afa8",
   "metadata": {
    "execution": {
     "iopub.execute_input": "2022-08-12T19:15:00.993135Z",
     "iopub.status.busy": "2022-08-12T19:15:00.992378Z",
     "iopub.status.idle": "2022-08-12T19:15:01.000308Z",
     "shell.execute_reply": "2022-08-12T19:15:00.999361Z"
    },
    "papermill": {
     "duration": 0.021188,
     "end_time": "2022-08-12T19:15:01.002483",
     "exception": false,
     "start_time": "2022-08-12T19:15:00.981295",
     "status": "completed"
    },
    "tags": []
   },
   "outputs": [
    {
     "data": {
      "text/plain": [
       "CLM    471\n",
       "MSW    406\n",
       "MCL    325\n",
       "STK    259\n",
       "AOC    229\n",
       "ALW    193\n",
       "STR     77\n",
       "SOC     18\n",
       "SST     10\n",
       "WCL      9\n",
       "SHP      2\n",
       "WMC      1\n",
       "Name: race_type, dtype: int64"
      ]
     },
     "execution_count": 22,
     "metadata": {},
     "output_type": "execute_result"
    }
   ],
   "source": [
    "nyra_race.race_type.value_counts()"
   ]
  }
 ],
 "metadata": {
  "kernelspec": {
   "display_name": "Python 3",
   "language": "python",
   "name": "python3"
  },
  "language_info": {
   "codemirror_mode": {
    "name": "ipython",
    "version": 3
   },
   "file_extension": ".py",
   "mimetype": "text/x-python",
   "name": "python",
   "nbconvert_exporter": "python",
   "pygments_lexer": "ipython3",
   "version": "3.7.12"
  },
  "papermill": {
   "default_parameters": {},
   "duration": 34.985401,
   "end_time": "2022-08-12T19:15:01.935687",
   "environment_variables": {},
   "exception": null,
   "input_path": "__notebook__.ipynb",
   "output_path": "__notebook__.ipynb",
   "parameters": {},
   "start_time": "2022-08-12T19:14:26.950286",
   "version": "2.3.4"
  }
 },
 "nbformat": 4,
 "nbformat_minor": 5
}
